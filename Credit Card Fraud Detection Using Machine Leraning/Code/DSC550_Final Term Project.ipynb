{
 "cells": [
  {
   "cell_type": "code",
   "execution_count": 1,
   "metadata": {},
   "outputs": [],
   "source": [
    "# Final Term Project\n",
    "# Credit Card Fraud Detection\n",
    "# Author: Saurabh Biswas\n",
    "# DSC550 T302"
   ]
  },
  {
   "cell_type": "markdown",
   "metadata": {},
   "source": [
    "Credit card fraud is one of the major concerns among financial institutions since the introduction of card-based payments. There are various classification and prediction models available in machine learning world that we can use to detect fraud. \n",
    "The aim of this project is to compare different classification techniques for fraud detcetion and find a suitable model that can be used to detect fraud."
   ]
  },
  {
   "cell_type": "markdown",
   "metadata": {},
   "source": [
    "Data Source: As most of the credit card transactions contain personal sensitive data, credit card processing companies don’t readily make it available in the open market. I’m planning to use a dataset available in Kaggle https://www.kaggle.com/mlg-ulb/creditcardfraud"
   ]
  },
  {
   "cell_type": "code",
   "execution_count": 2,
   "metadata": {},
   "outputs": [
    {
     "name": "stderr",
     "output_type": "stream",
     "text": [
      "/Users/saurabhbiswas/opt/anaconda3/lib/python3.7/site-packages/statsmodels/tools/_testing.py:19: FutureWarning: pandas.util.testing is deprecated. Use the functions in the public API at pandas.testing instead.\n",
      "  import pandas.util.testing as tm\n"
     ]
    }
   ],
   "source": [
    "#import required libraries\n",
    "import pandas as pd\n",
    "import numpy as np\n",
    "import matplotlib.pyplot as plt\n",
    "from scipy import stats\n",
    "import sys\n",
    "from sklearn.model_selection import train_test_split\n",
    "from sklearn.preprocessing import RobustScaler\n",
    "import seaborn as sns\n",
    "from sklearn.model_selection import GridSearchCV\n",
    "from sklearn.metrics import make_scorer, f1_score, average_precision_score, auc, precision_recall_curve, log_loss\n",
    "from sklearn.ensemble import RandomForestClassifier\n",
    "from sklearn.linear_model import LogisticRegression\n",
    "from sklearn.dummy import DummyClassifier\n",
    "from sklearn.neural_network import MLPClassifier\n",
    "from sklearn.metrics import precision_recall_curve\n",
    "from sklearn.pipeline import Pipeline\n",
    "import joblib\n",
    "import pandas_profiling as pp\n",
    "from sklearn.compose import ColumnTransformer\n",
    "from sklearn.feature_selection import SelectKBest\n",
    "%matplotlib inline\n",
    "seed = 824"
   ]
  },
  {
   "cell_type": "code",
   "execution_count": 3,
   "metadata": {},
   "outputs": [
    {
     "data": {
      "text/html": [
       "<div>\n",
       "<style scoped>\n",
       "    .dataframe tbody tr th:only-of-type {\n",
       "        vertical-align: middle;\n",
       "    }\n",
       "\n",
       "    .dataframe tbody tr th {\n",
       "        vertical-align: top;\n",
       "    }\n",
       "\n",
       "    .dataframe thead th {\n",
       "        text-align: right;\n",
       "    }\n",
       "</style>\n",
       "<table border=\"1\" class=\"dataframe\">\n",
       "  <thead>\n",
       "    <tr style=\"text-align: right;\">\n",
       "      <th></th>\n",
       "      <th>Time</th>\n",
       "      <th>V1</th>\n",
       "      <th>V2</th>\n",
       "      <th>V3</th>\n",
       "      <th>V4</th>\n",
       "      <th>V5</th>\n",
       "      <th>V6</th>\n",
       "      <th>V7</th>\n",
       "      <th>V8</th>\n",
       "      <th>V9</th>\n",
       "      <th>...</th>\n",
       "      <th>V21</th>\n",
       "      <th>V22</th>\n",
       "      <th>V23</th>\n",
       "      <th>V24</th>\n",
       "      <th>V25</th>\n",
       "      <th>V26</th>\n",
       "      <th>V27</th>\n",
       "      <th>V28</th>\n",
       "      <th>Amount</th>\n",
       "      <th>Class</th>\n",
       "    </tr>\n",
       "  </thead>\n",
       "  <tbody>\n",
       "    <tr>\n",
       "      <th>0</th>\n",
       "      <td>0.0</td>\n",
       "      <td>-1.359807</td>\n",
       "      <td>-0.072781</td>\n",
       "      <td>2.536347</td>\n",
       "      <td>1.378155</td>\n",
       "      <td>-0.338321</td>\n",
       "      <td>0.462388</td>\n",
       "      <td>0.239599</td>\n",
       "      <td>0.098698</td>\n",
       "      <td>0.363787</td>\n",
       "      <td>...</td>\n",
       "      <td>-0.018307</td>\n",
       "      <td>0.277838</td>\n",
       "      <td>-0.110474</td>\n",
       "      <td>0.066928</td>\n",
       "      <td>0.128539</td>\n",
       "      <td>-0.189115</td>\n",
       "      <td>0.133558</td>\n",
       "      <td>-0.021053</td>\n",
       "      <td>149.62</td>\n",
       "      <td>0</td>\n",
       "    </tr>\n",
       "    <tr>\n",
       "      <th>1</th>\n",
       "      <td>0.0</td>\n",
       "      <td>1.191857</td>\n",
       "      <td>0.266151</td>\n",
       "      <td>0.166480</td>\n",
       "      <td>0.448154</td>\n",
       "      <td>0.060018</td>\n",
       "      <td>-0.082361</td>\n",
       "      <td>-0.078803</td>\n",
       "      <td>0.085102</td>\n",
       "      <td>-0.255425</td>\n",
       "      <td>...</td>\n",
       "      <td>-0.225775</td>\n",
       "      <td>-0.638672</td>\n",
       "      <td>0.101288</td>\n",
       "      <td>-0.339846</td>\n",
       "      <td>0.167170</td>\n",
       "      <td>0.125895</td>\n",
       "      <td>-0.008983</td>\n",
       "      <td>0.014724</td>\n",
       "      <td>2.69</td>\n",
       "      <td>0</td>\n",
       "    </tr>\n",
       "    <tr>\n",
       "      <th>2</th>\n",
       "      <td>1.0</td>\n",
       "      <td>-1.358354</td>\n",
       "      <td>-1.340163</td>\n",
       "      <td>1.773209</td>\n",
       "      <td>0.379780</td>\n",
       "      <td>-0.503198</td>\n",
       "      <td>1.800499</td>\n",
       "      <td>0.791461</td>\n",
       "      <td>0.247676</td>\n",
       "      <td>-1.514654</td>\n",
       "      <td>...</td>\n",
       "      <td>0.247998</td>\n",
       "      <td>0.771679</td>\n",
       "      <td>0.909412</td>\n",
       "      <td>-0.689281</td>\n",
       "      <td>-0.327642</td>\n",
       "      <td>-0.139097</td>\n",
       "      <td>-0.055353</td>\n",
       "      <td>-0.059752</td>\n",
       "      <td>378.66</td>\n",
       "      <td>0</td>\n",
       "    </tr>\n",
       "    <tr>\n",
       "      <th>3</th>\n",
       "      <td>1.0</td>\n",
       "      <td>-0.966272</td>\n",
       "      <td>-0.185226</td>\n",
       "      <td>1.792993</td>\n",
       "      <td>-0.863291</td>\n",
       "      <td>-0.010309</td>\n",
       "      <td>1.247203</td>\n",
       "      <td>0.237609</td>\n",
       "      <td>0.377436</td>\n",
       "      <td>-1.387024</td>\n",
       "      <td>...</td>\n",
       "      <td>-0.108300</td>\n",
       "      <td>0.005274</td>\n",
       "      <td>-0.190321</td>\n",
       "      <td>-1.175575</td>\n",
       "      <td>0.647376</td>\n",
       "      <td>-0.221929</td>\n",
       "      <td>0.062723</td>\n",
       "      <td>0.061458</td>\n",
       "      <td>123.50</td>\n",
       "      <td>0</td>\n",
       "    </tr>\n",
       "    <tr>\n",
       "      <th>4</th>\n",
       "      <td>2.0</td>\n",
       "      <td>-1.158233</td>\n",
       "      <td>0.877737</td>\n",
       "      <td>1.548718</td>\n",
       "      <td>0.403034</td>\n",
       "      <td>-0.407193</td>\n",
       "      <td>0.095921</td>\n",
       "      <td>0.592941</td>\n",
       "      <td>-0.270533</td>\n",
       "      <td>0.817739</td>\n",
       "      <td>...</td>\n",
       "      <td>-0.009431</td>\n",
       "      <td>0.798278</td>\n",
       "      <td>-0.137458</td>\n",
       "      <td>0.141267</td>\n",
       "      <td>-0.206010</td>\n",
       "      <td>0.502292</td>\n",
       "      <td>0.219422</td>\n",
       "      <td>0.215153</td>\n",
       "      <td>69.99</td>\n",
       "      <td>0</td>\n",
       "    </tr>\n",
       "    <tr>\n",
       "      <th>...</th>\n",
       "      <td>...</td>\n",
       "      <td>...</td>\n",
       "      <td>...</td>\n",
       "      <td>...</td>\n",
       "      <td>...</td>\n",
       "      <td>...</td>\n",
       "      <td>...</td>\n",
       "      <td>...</td>\n",
       "      <td>...</td>\n",
       "      <td>...</td>\n",
       "      <td>...</td>\n",
       "      <td>...</td>\n",
       "      <td>...</td>\n",
       "      <td>...</td>\n",
       "      <td>...</td>\n",
       "      <td>...</td>\n",
       "      <td>...</td>\n",
       "      <td>...</td>\n",
       "      <td>...</td>\n",
       "      <td>...</td>\n",
       "      <td>...</td>\n",
       "    </tr>\n",
       "    <tr>\n",
       "      <th>284802</th>\n",
       "      <td>172786.0</td>\n",
       "      <td>-11.881118</td>\n",
       "      <td>10.071785</td>\n",
       "      <td>-9.834783</td>\n",
       "      <td>-2.066656</td>\n",
       "      <td>-5.364473</td>\n",
       "      <td>-2.606837</td>\n",
       "      <td>-4.918215</td>\n",
       "      <td>7.305334</td>\n",
       "      <td>1.914428</td>\n",
       "      <td>...</td>\n",
       "      <td>0.213454</td>\n",
       "      <td>0.111864</td>\n",
       "      <td>1.014480</td>\n",
       "      <td>-0.509348</td>\n",
       "      <td>1.436807</td>\n",
       "      <td>0.250034</td>\n",
       "      <td>0.943651</td>\n",
       "      <td>0.823731</td>\n",
       "      <td>0.77</td>\n",
       "      <td>0</td>\n",
       "    </tr>\n",
       "    <tr>\n",
       "      <th>284803</th>\n",
       "      <td>172787.0</td>\n",
       "      <td>-0.732789</td>\n",
       "      <td>-0.055080</td>\n",
       "      <td>2.035030</td>\n",
       "      <td>-0.738589</td>\n",
       "      <td>0.868229</td>\n",
       "      <td>1.058415</td>\n",
       "      <td>0.024330</td>\n",
       "      <td>0.294869</td>\n",
       "      <td>0.584800</td>\n",
       "      <td>...</td>\n",
       "      <td>0.214205</td>\n",
       "      <td>0.924384</td>\n",
       "      <td>0.012463</td>\n",
       "      <td>-1.016226</td>\n",
       "      <td>-0.606624</td>\n",
       "      <td>-0.395255</td>\n",
       "      <td>0.068472</td>\n",
       "      <td>-0.053527</td>\n",
       "      <td>24.79</td>\n",
       "      <td>0</td>\n",
       "    </tr>\n",
       "    <tr>\n",
       "      <th>284804</th>\n",
       "      <td>172788.0</td>\n",
       "      <td>1.919565</td>\n",
       "      <td>-0.301254</td>\n",
       "      <td>-3.249640</td>\n",
       "      <td>-0.557828</td>\n",
       "      <td>2.630515</td>\n",
       "      <td>3.031260</td>\n",
       "      <td>-0.296827</td>\n",
       "      <td>0.708417</td>\n",
       "      <td>0.432454</td>\n",
       "      <td>...</td>\n",
       "      <td>0.232045</td>\n",
       "      <td>0.578229</td>\n",
       "      <td>-0.037501</td>\n",
       "      <td>0.640134</td>\n",
       "      <td>0.265745</td>\n",
       "      <td>-0.087371</td>\n",
       "      <td>0.004455</td>\n",
       "      <td>-0.026561</td>\n",
       "      <td>67.88</td>\n",
       "      <td>0</td>\n",
       "    </tr>\n",
       "    <tr>\n",
       "      <th>284805</th>\n",
       "      <td>172788.0</td>\n",
       "      <td>-0.240440</td>\n",
       "      <td>0.530483</td>\n",
       "      <td>0.702510</td>\n",
       "      <td>0.689799</td>\n",
       "      <td>-0.377961</td>\n",
       "      <td>0.623708</td>\n",
       "      <td>-0.686180</td>\n",
       "      <td>0.679145</td>\n",
       "      <td>0.392087</td>\n",
       "      <td>...</td>\n",
       "      <td>0.265245</td>\n",
       "      <td>0.800049</td>\n",
       "      <td>-0.163298</td>\n",
       "      <td>0.123205</td>\n",
       "      <td>-0.569159</td>\n",
       "      <td>0.546668</td>\n",
       "      <td>0.108821</td>\n",
       "      <td>0.104533</td>\n",
       "      <td>10.00</td>\n",
       "      <td>0</td>\n",
       "    </tr>\n",
       "    <tr>\n",
       "      <th>284806</th>\n",
       "      <td>172792.0</td>\n",
       "      <td>-0.533413</td>\n",
       "      <td>-0.189733</td>\n",
       "      <td>0.703337</td>\n",
       "      <td>-0.506271</td>\n",
       "      <td>-0.012546</td>\n",
       "      <td>-0.649617</td>\n",
       "      <td>1.577006</td>\n",
       "      <td>-0.414650</td>\n",
       "      <td>0.486180</td>\n",
       "      <td>...</td>\n",
       "      <td>0.261057</td>\n",
       "      <td>0.643078</td>\n",
       "      <td>0.376777</td>\n",
       "      <td>0.008797</td>\n",
       "      <td>-0.473649</td>\n",
       "      <td>-0.818267</td>\n",
       "      <td>-0.002415</td>\n",
       "      <td>0.013649</td>\n",
       "      <td>217.00</td>\n",
       "      <td>0</td>\n",
       "    </tr>\n",
       "  </tbody>\n",
       "</table>\n",
       "<p>284807 rows × 31 columns</p>\n",
       "</div>"
      ],
      "text/plain": [
       "            Time         V1         V2        V3        V4        V5  \\\n",
       "0            0.0  -1.359807  -0.072781  2.536347  1.378155 -0.338321   \n",
       "1            0.0   1.191857   0.266151  0.166480  0.448154  0.060018   \n",
       "2            1.0  -1.358354  -1.340163  1.773209  0.379780 -0.503198   \n",
       "3            1.0  -0.966272  -0.185226  1.792993 -0.863291 -0.010309   \n",
       "4            2.0  -1.158233   0.877737  1.548718  0.403034 -0.407193   \n",
       "...          ...        ...        ...       ...       ...       ...   \n",
       "284802  172786.0 -11.881118  10.071785 -9.834783 -2.066656 -5.364473   \n",
       "284803  172787.0  -0.732789  -0.055080  2.035030 -0.738589  0.868229   \n",
       "284804  172788.0   1.919565  -0.301254 -3.249640 -0.557828  2.630515   \n",
       "284805  172788.0  -0.240440   0.530483  0.702510  0.689799 -0.377961   \n",
       "284806  172792.0  -0.533413  -0.189733  0.703337 -0.506271 -0.012546   \n",
       "\n",
       "              V6        V7        V8        V9  ...       V21       V22  \\\n",
       "0       0.462388  0.239599  0.098698  0.363787  ... -0.018307  0.277838   \n",
       "1      -0.082361 -0.078803  0.085102 -0.255425  ... -0.225775 -0.638672   \n",
       "2       1.800499  0.791461  0.247676 -1.514654  ...  0.247998  0.771679   \n",
       "3       1.247203  0.237609  0.377436 -1.387024  ... -0.108300  0.005274   \n",
       "4       0.095921  0.592941 -0.270533  0.817739  ... -0.009431  0.798278   \n",
       "...          ...       ...       ...       ...  ...       ...       ...   \n",
       "284802 -2.606837 -4.918215  7.305334  1.914428  ...  0.213454  0.111864   \n",
       "284803  1.058415  0.024330  0.294869  0.584800  ...  0.214205  0.924384   \n",
       "284804  3.031260 -0.296827  0.708417  0.432454  ...  0.232045  0.578229   \n",
       "284805  0.623708 -0.686180  0.679145  0.392087  ...  0.265245  0.800049   \n",
       "284806 -0.649617  1.577006 -0.414650  0.486180  ...  0.261057  0.643078   \n",
       "\n",
       "             V23       V24       V25       V26       V27       V28  Amount  \\\n",
       "0      -0.110474  0.066928  0.128539 -0.189115  0.133558 -0.021053  149.62   \n",
       "1       0.101288 -0.339846  0.167170  0.125895 -0.008983  0.014724    2.69   \n",
       "2       0.909412 -0.689281 -0.327642 -0.139097 -0.055353 -0.059752  378.66   \n",
       "3      -0.190321 -1.175575  0.647376 -0.221929  0.062723  0.061458  123.50   \n",
       "4      -0.137458  0.141267 -0.206010  0.502292  0.219422  0.215153   69.99   \n",
       "...          ...       ...       ...       ...       ...       ...     ...   \n",
       "284802  1.014480 -0.509348  1.436807  0.250034  0.943651  0.823731    0.77   \n",
       "284803  0.012463 -1.016226 -0.606624 -0.395255  0.068472 -0.053527   24.79   \n",
       "284804 -0.037501  0.640134  0.265745 -0.087371  0.004455 -0.026561   67.88   \n",
       "284805 -0.163298  0.123205 -0.569159  0.546668  0.108821  0.104533   10.00   \n",
       "284806  0.376777  0.008797 -0.473649 -0.818267 -0.002415  0.013649  217.00   \n",
       "\n",
       "        Class  \n",
       "0           0  \n",
       "1           0  \n",
       "2           0  \n",
       "3           0  \n",
       "4           0  \n",
       "...       ...  \n",
       "284802      0  \n",
       "284803      0  \n",
       "284804      0  \n",
       "284805      0  \n",
       "284806      0  \n",
       "\n",
       "[284807 rows x 31 columns]"
      ]
     },
     "execution_count": 3,
     "metadata": {},
     "output_type": "execute_result"
    }
   ],
   "source": [
    "# read file and load into a dataframe\n",
    "df1 = pd.read_csv('creditcard.csv')\n",
    "df1"
   ]
  },
  {
   "cell_type": "code",
   "execution_count": 4,
   "metadata": {},
   "outputs": [
    {
     "data": {
      "text/html": [
       "<div>\n",
       "<style scoped>\n",
       "    .dataframe tbody tr th:only-of-type {\n",
       "        vertical-align: middle;\n",
       "    }\n",
       "\n",
       "    .dataframe tbody tr th {\n",
       "        vertical-align: top;\n",
       "    }\n",
       "\n",
       "    .dataframe thead th {\n",
       "        text-align: right;\n",
       "    }\n",
       "</style>\n",
       "<table border=\"1\" class=\"dataframe\">\n",
       "  <thead>\n",
       "    <tr style=\"text-align: right;\">\n",
       "      <th></th>\n",
       "      <th>Time</th>\n",
       "      <th>V1</th>\n",
       "      <th>V2</th>\n",
       "      <th>V3</th>\n",
       "      <th>V4</th>\n",
       "      <th>V5</th>\n",
       "      <th>V6</th>\n",
       "      <th>V7</th>\n",
       "      <th>V8</th>\n",
       "      <th>V9</th>\n",
       "      <th>...</th>\n",
       "      <th>V21</th>\n",
       "      <th>V22</th>\n",
       "      <th>V23</th>\n",
       "      <th>V24</th>\n",
       "      <th>V25</th>\n",
       "      <th>V26</th>\n",
       "      <th>V27</th>\n",
       "      <th>V28</th>\n",
       "      <th>Amount</th>\n",
       "      <th>Class</th>\n",
       "    </tr>\n",
       "  </thead>\n",
       "  <tbody>\n",
       "    <tr>\n",
       "      <th>count</th>\n",
       "      <td>284807.000000</td>\n",
       "      <td>2.848070e+05</td>\n",
       "      <td>2.848070e+05</td>\n",
       "      <td>2.848070e+05</td>\n",
       "      <td>2.848070e+05</td>\n",
       "      <td>2.848070e+05</td>\n",
       "      <td>2.848070e+05</td>\n",
       "      <td>2.848070e+05</td>\n",
       "      <td>2.848070e+05</td>\n",
       "      <td>2.848070e+05</td>\n",
       "      <td>...</td>\n",
       "      <td>2.848070e+05</td>\n",
       "      <td>2.848070e+05</td>\n",
       "      <td>2.848070e+05</td>\n",
       "      <td>2.848070e+05</td>\n",
       "      <td>2.848070e+05</td>\n",
       "      <td>2.848070e+05</td>\n",
       "      <td>2.848070e+05</td>\n",
       "      <td>2.848070e+05</td>\n",
       "      <td>284807.000000</td>\n",
       "      <td>284807.000000</td>\n",
       "    </tr>\n",
       "    <tr>\n",
       "      <th>mean</th>\n",
       "      <td>94813.859575</td>\n",
       "      <td>3.919560e-15</td>\n",
       "      <td>5.688174e-16</td>\n",
       "      <td>-8.769071e-15</td>\n",
       "      <td>2.782312e-15</td>\n",
       "      <td>-1.552563e-15</td>\n",
       "      <td>2.010663e-15</td>\n",
       "      <td>-1.694249e-15</td>\n",
       "      <td>-1.927028e-16</td>\n",
       "      <td>-3.137024e-15</td>\n",
       "      <td>...</td>\n",
       "      <td>1.537294e-16</td>\n",
       "      <td>7.959909e-16</td>\n",
       "      <td>5.367590e-16</td>\n",
       "      <td>4.458112e-15</td>\n",
       "      <td>1.453003e-15</td>\n",
       "      <td>1.699104e-15</td>\n",
       "      <td>-3.660161e-16</td>\n",
       "      <td>-1.206049e-16</td>\n",
       "      <td>88.349619</td>\n",
       "      <td>0.001727</td>\n",
       "    </tr>\n",
       "    <tr>\n",
       "      <th>std</th>\n",
       "      <td>47488.145955</td>\n",
       "      <td>1.958696e+00</td>\n",
       "      <td>1.651309e+00</td>\n",
       "      <td>1.516255e+00</td>\n",
       "      <td>1.415869e+00</td>\n",
       "      <td>1.380247e+00</td>\n",
       "      <td>1.332271e+00</td>\n",
       "      <td>1.237094e+00</td>\n",
       "      <td>1.194353e+00</td>\n",
       "      <td>1.098632e+00</td>\n",
       "      <td>...</td>\n",
       "      <td>7.345240e-01</td>\n",
       "      <td>7.257016e-01</td>\n",
       "      <td>6.244603e-01</td>\n",
       "      <td>6.056471e-01</td>\n",
       "      <td>5.212781e-01</td>\n",
       "      <td>4.822270e-01</td>\n",
       "      <td>4.036325e-01</td>\n",
       "      <td>3.300833e-01</td>\n",
       "      <td>250.120109</td>\n",
       "      <td>0.041527</td>\n",
       "    </tr>\n",
       "    <tr>\n",
       "      <th>min</th>\n",
       "      <td>0.000000</td>\n",
       "      <td>-5.640751e+01</td>\n",
       "      <td>-7.271573e+01</td>\n",
       "      <td>-4.832559e+01</td>\n",
       "      <td>-5.683171e+00</td>\n",
       "      <td>-1.137433e+02</td>\n",
       "      <td>-2.616051e+01</td>\n",
       "      <td>-4.355724e+01</td>\n",
       "      <td>-7.321672e+01</td>\n",
       "      <td>-1.343407e+01</td>\n",
       "      <td>...</td>\n",
       "      <td>-3.483038e+01</td>\n",
       "      <td>-1.093314e+01</td>\n",
       "      <td>-4.480774e+01</td>\n",
       "      <td>-2.836627e+00</td>\n",
       "      <td>-1.029540e+01</td>\n",
       "      <td>-2.604551e+00</td>\n",
       "      <td>-2.256568e+01</td>\n",
       "      <td>-1.543008e+01</td>\n",
       "      <td>0.000000</td>\n",
       "      <td>0.000000</td>\n",
       "    </tr>\n",
       "    <tr>\n",
       "      <th>25%</th>\n",
       "      <td>54201.500000</td>\n",
       "      <td>-9.203734e-01</td>\n",
       "      <td>-5.985499e-01</td>\n",
       "      <td>-8.903648e-01</td>\n",
       "      <td>-8.486401e-01</td>\n",
       "      <td>-6.915971e-01</td>\n",
       "      <td>-7.682956e-01</td>\n",
       "      <td>-5.540759e-01</td>\n",
       "      <td>-2.086297e-01</td>\n",
       "      <td>-6.430976e-01</td>\n",
       "      <td>...</td>\n",
       "      <td>-2.283949e-01</td>\n",
       "      <td>-5.423504e-01</td>\n",
       "      <td>-1.618463e-01</td>\n",
       "      <td>-3.545861e-01</td>\n",
       "      <td>-3.171451e-01</td>\n",
       "      <td>-3.269839e-01</td>\n",
       "      <td>-7.083953e-02</td>\n",
       "      <td>-5.295979e-02</td>\n",
       "      <td>5.600000</td>\n",
       "      <td>0.000000</td>\n",
       "    </tr>\n",
       "    <tr>\n",
       "      <th>50%</th>\n",
       "      <td>84692.000000</td>\n",
       "      <td>1.810880e-02</td>\n",
       "      <td>6.548556e-02</td>\n",
       "      <td>1.798463e-01</td>\n",
       "      <td>-1.984653e-02</td>\n",
       "      <td>-5.433583e-02</td>\n",
       "      <td>-2.741871e-01</td>\n",
       "      <td>4.010308e-02</td>\n",
       "      <td>2.235804e-02</td>\n",
       "      <td>-5.142873e-02</td>\n",
       "      <td>...</td>\n",
       "      <td>-2.945017e-02</td>\n",
       "      <td>6.781943e-03</td>\n",
       "      <td>-1.119293e-02</td>\n",
       "      <td>4.097606e-02</td>\n",
       "      <td>1.659350e-02</td>\n",
       "      <td>-5.213911e-02</td>\n",
       "      <td>1.342146e-03</td>\n",
       "      <td>1.124383e-02</td>\n",
       "      <td>22.000000</td>\n",
       "      <td>0.000000</td>\n",
       "    </tr>\n",
       "    <tr>\n",
       "      <th>75%</th>\n",
       "      <td>139320.500000</td>\n",
       "      <td>1.315642e+00</td>\n",
       "      <td>8.037239e-01</td>\n",
       "      <td>1.027196e+00</td>\n",
       "      <td>7.433413e-01</td>\n",
       "      <td>6.119264e-01</td>\n",
       "      <td>3.985649e-01</td>\n",
       "      <td>5.704361e-01</td>\n",
       "      <td>3.273459e-01</td>\n",
       "      <td>5.971390e-01</td>\n",
       "      <td>...</td>\n",
       "      <td>1.863772e-01</td>\n",
       "      <td>5.285536e-01</td>\n",
       "      <td>1.476421e-01</td>\n",
       "      <td>4.395266e-01</td>\n",
       "      <td>3.507156e-01</td>\n",
       "      <td>2.409522e-01</td>\n",
       "      <td>9.104512e-02</td>\n",
       "      <td>7.827995e-02</td>\n",
       "      <td>77.165000</td>\n",
       "      <td>0.000000</td>\n",
       "    </tr>\n",
       "    <tr>\n",
       "      <th>max</th>\n",
       "      <td>172792.000000</td>\n",
       "      <td>2.454930e+00</td>\n",
       "      <td>2.205773e+01</td>\n",
       "      <td>9.382558e+00</td>\n",
       "      <td>1.687534e+01</td>\n",
       "      <td>3.480167e+01</td>\n",
       "      <td>7.330163e+01</td>\n",
       "      <td>1.205895e+02</td>\n",
       "      <td>2.000721e+01</td>\n",
       "      <td>1.559499e+01</td>\n",
       "      <td>...</td>\n",
       "      <td>2.720284e+01</td>\n",
       "      <td>1.050309e+01</td>\n",
       "      <td>2.252841e+01</td>\n",
       "      <td>4.584549e+00</td>\n",
       "      <td>7.519589e+00</td>\n",
       "      <td>3.517346e+00</td>\n",
       "      <td>3.161220e+01</td>\n",
       "      <td>3.384781e+01</td>\n",
       "      <td>25691.160000</td>\n",
       "      <td>1.000000</td>\n",
       "    </tr>\n",
       "  </tbody>\n",
       "</table>\n",
       "<p>8 rows × 31 columns</p>\n",
       "</div>"
      ],
      "text/plain": [
       "                Time            V1            V2            V3            V4  \\\n",
       "count  284807.000000  2.848070e+05  2.848070e+05  2.848070e+05  2.848070e+05   \n",
       "mean    94813.859575  3.919560e-15  5.688174e-16 -8.769071e-15  2.782312e-15   \n",
       "std     47488.145955  1.958696e+00  1.651309e+00  1.516255e+00  1.415869e+00   \n",
       "min         0.000000 -5.640751e+01 -7.271573e+01 -4.832559e+01 -5.683171e+00   \n",
       "25%     54201.500000 -9.203734e-01 -5.985499e-01 -8.903648e-01 -8.486401e-01   \n",
       "50%     84692.000000  1.810880e-02  6.548556e-02  1.798463e-01 -1.984653e-02   \n",
       "75%    139320.500000  1.315642e+00  8.037239e-01  1.027196e+00  7.433413e-01   \n",
       "max    172792.000000  2.454930e+00  2.205773e+01  9.382558e+00  1.687534e+01   \n",
       "\n",
       "                 V5            V6            V7            V8            V9  \\\n",
       "count  2.848070e+05  2.848070e+05  2.848070e+05  2.848070e+05  2.848070e+05   \n",
       "mean  -1.552563e-15  2.010663e-15 -1.694249e-15 -1.927028e-16 -3.137024e-15   \n",
       "std    1.380247e+00  1.332271e+00  1.237094e+00  1.194353e+00  1.098632e+00   \n",
       "min   -1.137433e+02 -2.616051e+01 -4.355724e+01 -7.321672e+01 -1.343407e+01   \n",
       "25%   -6.915971e-01 -7.682956e-01 -5.540759e-01 -2.086297e-01 -6.430976e-01   \n",
       "50%   -5.433583e-02 -2.741871e-01  4.010308e-02  2.235804e-02 -5.142873e-02   \n",
       "75%    6.119264e-01  3.985649e-01  5.704361e-01  3.273459e-01  5.971390e-01   \n",
       "max    3.480167e+01  7.330163e+01  1.205895e+02  2.000721e+01  1.559499e+01   \n",
       "\n",
       "       ...           V21           V22           V23           V24  \\\n",
       "count  ...  2.848070e+05  2.848070e+05  2.848070e+05  2.848070e+05   \n",
       "mean   ...  1.537294e-16  7.959909e-16  5.367590e-16  4.458112e-15   \n",
       "std    ...  7.345240e-01  7.257016e-01  6.244603e-01  6.056471e-01   \n",
       "min    ... -3.483038e+01 -1.093314e+01 -4.480774e+01 -2.836627e+00   \n",
       "25%    ... -2.283949e-01 -5.423504e-01 -1.618463e-01 -3.545861e-01   \n",
       "50%    ... -2.945017e-02  6.781943e-03 -1.119293e-02  4.097606e-02   \n",
       "75%    ...  1.863772e-01  5.285536e-01  1.476421e-01  4.395266e-01   \n",
       "max    ...  2.720284e+01  1.050309e+01  2.252841e+01  4.584549e+00   \n",
       "\n",
       "                V25           V26           V27           V28         Amount  \\\n",
       "count  2.848070e+05  2.848070e+05  2.848070e+05  2.848070e+05  284807.000000   \n",
       "mean   1.453003e-15  1.699104e-15 -3.660161e-16 -1.206049e-16      88.349619   \n",
       "std    5.212781e-01  4.822270e-01  4.036325e-01  3.300833e-01     250.120109   \n",
       "min   -1.029540e+01 -2.604551e+00 -2.256568e+01 -1.543008e+01       0.000000   \n",
       "25%   -3.171451e-01 -3.269839e-01 -7.083953e-02 -5.295979e-02       5.600000   \n",
       "50%    1.659350e-02 -5.213911e-02  1.342146e-03  1.124383e-02      22.000000   \n",
       "75%    3.507156e-01  2.409522e-01  9.104512e-02  7.827995e-02      77.165000   \n",
       "max    7.519589e+00  3.517346e+00  3.161220e+01  3.384781e+01   25691.160000   \n",
       "\n",
       "               Class  \n",
       "count  284807.000000  \n",
       "mean        0.001727  \n",
       "std         0.041527  \n",
       "min         0.000000  \n",
       "25%         0.000000  \n",
       "50%         0.000000  \n",
       "75%         0.000000  \n",
       "max         1.000000  \n",
       "\n",
       "[8 rows x 31 columns]"
      ]
     },
     "execution_count": 4,
     "metadata": {},
     "output_type": "execute_result"
    }
   ],
   "source": [
    "df1.describe()"
   ]
  },
  {
   "cell_type": "markdown",
   "metadata": {},
   "source": [
    "This dataset contains 284807 number of observations and 30 independent & one dependent variable. Variables V1 through V28 are the PCA transformed values. This is to keep the financial data confidential. Only 'Time' and 'Amount' are the only independent attributes that are in its original form. 'Class' is the dependent variable which is nothing but the claasification of the transaction - fraud (Class = 1) or no fraud (Class = 1)."
   ]
  },
  {
   "cell_type": "code",
   "execution_count": 5,
   "metadata": {},
   "outputs": [
    {
     "name": "stdout",
     "output_type": "stream",
     "text": [
      "0    284315\n",
      "1       492\n",
      "Name: Class, dtype: int64\n"
     ]
    }
   ],
   "source": [
    "x_class = df1['Class'].value_counts()\n",
    "print(x_class)"
   ]
  },
  {
   "cell_type": "code",
   "execution_count": 6,
   "metadata": {},
   "outputs": [
    {
     "name": "stdout",
     "output_type": "stream",
     "text": [
      "Fraudulent transactions are: 0.17 %\n",
      "Non Fraudulent transactions are: 99.83 %\n"
     ]
    }
   ],
   "source": [
    "print('Fraudulent transactions are: {0:.2f} %'.format((x_class[1]/len(df1))*100))\n",
    "print('Non Fraudulent transactions are: {0:.2f} %'.format((x_class[0]/len(df1))*100))"
   ]
  },
  {
   "cell_type": "code",
   "execution_count": 7,
   "metadata": {},
   "outputs": [
    {
     "data": {
      "image/png": "[encoded data removed]",
      "text/plain": [
       "<Figure size 432x288 with 1 Axes>"
      ]
     },
     "metadata": {
      "needs_background": "light"
     },
     "output_type": "display_data"
    }
   ],
   "source": [
    "plt.bar(x=['no fraud', 'fraud'], height = x_class, width = 0.5)\n",
    "plt.show()"
   ]
  },
  {
   "cell_type": "markdown",
   "metadata": {},
   "source": [
    "We can see that the dataset is highly imbalanced. If we build a model that predicts tansactions as non fraudulent, then also the accuracy of the model will be 99.83%. But still financial institution will incur loss due to fraud."
   ]
  },
  {
   "cell_type": "code",
   "execution_count": 8,
   "metadata": {},
   "outputs": [
    {
     "data": {
      "text/html": [
       "<div>\n",
       "<style scoped>\n",
       "    .dataframe tbody tr th:only-of-type {\n",
       "        vertical-align: middle;\n",
       "    }\n",
       "\n",
       "    .dataframe tbody tr th {\n",
       "        vertical-align: top;\n",
       "    }\n",
       "\n",
       "    .dataframe thead th {\n",
       "        text-align: right;\n",
       "    }\n",
       "</style>\n",
       "<table border=\"1\" class=\"dataframe\">\n",
       "  <thead>\n",
       "    <tr style=\"text-align: right;\">\n",
       "      <th></th>\n",
       "      <th>Class</th>\n",
       "      <th>V14</th>\n",
       "      <th>V1</th>\n",
       "      <th>V2</th>\n",
       "      <th>V3</th>\n",
       "      <th>V4</th>\n",
       "      <th>V5</th>\n",
       "      <th>V6</th>\n",
       "      <th>V7</th>\n",
       "      <th>V8</th>\n",
       "      <th>...</th>\n",
       "      <th>V20</th>\n",
       "      <th>V21</th>\n",
       "      <th>V22</th>\n",
       "      <th>V23</th>\n",
       "      <th>V24</th>\n",
       "      <th>V25</th>\n",
       "      <th>V26</th>\n",
       "      <th>V27</th>\n",
       "      <th>V28</th>\n",
       "      <th>Time</th>\n",
       "    </tr>\n",
       "  </thead>\n",
       "  <tbody>\n",
       "    <tr>\n",
       "      <th>Total</th>\n",
       "      <td>0</td>\n",
       "      <td>0</td>\n",
       "      <td>0</td>\n",
       "      <td>0</td>\n",
       "      <td>0</td>\n",
       "      <td>0</td>\n",
       "      <td>0</td>\n",
       "      <td>0</td>\n",
       "      <td>0</td>\n",
       "      <td>0</td>\n",
       "      <td>...</td>\n",
       "      <td>0</td>\n",
       "      <td>0</td>\n",
       "      <td>0</td>\n",
       "      <td>0</td>\n",
       "      <td>0</td>\n",
       "      <td>0</td>\n",
       "      <td>0</td>\n",
       "      <td>0</td>\n",
       "      <td>0</td>\n",
       "      <td>0</td>\n",
       "    </tr>\n",
       "  </tbody>\n",
       "</table>\n",
       "<p>1 rows × 31 columns</p>\n",
       "</div>"
      ],
      "text/plain": [
       "       Class  V14  V1  V2  V3  V4  V5  V6  V7  V8  ...  V20  V21  V22  V23  \\\n",
       "Total      0    0   0   0   0   0   0   0   0   0  ...    0    0    0    0   \n",
       "\n",
       "       V24  V25  V26  V27  V28  Time  \n",
       "Total    0    0    0    0    0     0  \n",
       "\n",
       "[1 rows x 31 columns]"
      ]
     },
     "execution_count": 8,
     "metadata": {},
     "output_type": "execute_result"
    }
   ],
   "source": [
    "total = df1.isnull().sum().sort_values(ascending = False)\n",
    "pd.concat([total], axis=1, keys=['Total']).transpose()"
   ]
  },
  {
   "cell_type": "markdown",
   "metadata": {},
   "source": [
    "No Null/NaN values in any of the variable."
   ]
  },
  {
   "cell_type": "code",
   "execution_count": 9,
   "metadata": {},
   "outputs": [
    {
     "data": {
      "image/png": "[encoded data removed]",
      "text/plain": [
       "<Figure size 432x288 with 1 Axes>"
      ]
     },
     "metadata": {
      "needs_background": "light"
     },
     "output_type": "display_data"
    }
   ],
   "source": [
    "# Amount v/s Class\n",
    "fig, ax1 = plt.subplots(ncols=1)\n",
    "s = sns.boxplot(ax = ax1, x=\"Class\", y=\"Amount\", hue=\"Class\",data=df1, palette=\"PRGn\",showfliers=True)\n",
    "plt.show()"
   ]
  },
  {
   "cell_type": "markdown",
   "metadata": {},
   "source": [
    "Based on the above plot, it looks like fraudulent transactions are of lower amount."
   ]
  },
  {
   "cell_type": "markdown",
   "metadata": {},
   "source": [
    "We will split our data into training set and test set in 3:1 ratio. We will use training set for training our models and test set to test our best model."
   ]
  },
  {
   "cell_type": "code",
   "execution_count": 10,
   "metadata": {},
   "outputs": [],
   "source": [
    "# Train Test Split\n",
    "X = df1.drop('Class', axis=1)  # get only independent variables\n",
    "y = df1['Class']  # get Class variable\n",
    "\n",
    "#y = df1.loc[:, ['Class']]\n",
    "\n",
    "X_train, X_test, y_train, y_test = train_test_split(X, y, stratify = y, test_size=0.25, random_state=seed)\n",
    "\n",
    "#y_train1= y_train[y_train[:] == 1]   # fraud class\n",
    "#y_test1= y_test[y_test[:] == 1]   # non fraud class\n",
    "#print (len(y_train1))\n",
    "#print (len(y_test1))"
   ]
  },
  {
   "cell_type": "code",
   "execution_count": 39,
   "metadata": {},
   "outputs": [],
   "source": [
    "#pp.ProfileReport(X_train).to_notebook_iframe()"
   ]
  },
  {
   "cell_type": "markdown",
   "metadata": {},
   "source": [
    "We will now scale Time and Amount."
   ]
  },
  {
   "cell_type": "code",
   "execution_count": 11,
   "metadata": {},
   "outputs": [
    {
     "name": "stdout",
     "output_type": "stream",
     "text": [
      "Correlation of Time is: -0.01\n",
      "Correlation of V1 is: -0.10\n",
      "Correlation of V2 is: 0.09\n",
      "Correlation of V3 is: -0.19\n",
      "Correlation of V4 is: 0.13\n",
      "Correlation of V5 is: -0.09\n",
      "Correlation of V6 is: -0.04\n",
      "Correlation of V7 is: -0.18\n",
      "Correlation of V8 is: 0.02\n",
      "Correlation of V9 is: -0.10\n",
      "Correlation of V10 is: -0.21\n",
      "Correlation of V11 is: 0.15\n",
      "Correlation of V12 is: -0.25\n",
      "Correlation of V13 is: -0.01\n",
      "Correlation of V14 is: -0.30\n",
      "Correlation of V15 is: -0.00\n",
      "Correlation of V16 is: -0.19\n",
      "Correlation of V17 is: -0.31\n",
      "Correlation of V18 is: -0.10\n",
      "Correlation of V19 is: 0.03\n",
      "Correlation of V20 is: 0.02\n",
      "Correlation of V21 is: 0.04\n",
      "Correlation of V22 is: -0.00\n",
      "Correlation of V23 is: -0.00\n",
      "Correlation of V24 is: -0.01\n",
      "Correlation of V25 is: 0.01\n",
      "Correlation of V26 is: 0.01\n",
      "Correlation of V27 is: 0.02\n",
      "Correlation of V28 is: 0.01\n",
      "Correlation of Amount is: 0.00\n"
     ]
    }
   ],
   "source": [
    "corr_list =[]\n",
    "for i in range(X_train.shape[1]):\n",
    "    corr=stats.pearsonr(X_train.iloc[:,i], y_train[:])[0]\n",
    "#    corr=stats.pearsonr(X_train.iloc[:,i], y_train.iloc[:,0])[0]\n",
    "    corr_list.append(corr)\n",
    "    col = X_train.columns[i]\n",
    "    print('Correlation of {cols} is: {0:.2f}'.format(corr, cols = col))"
   ]
  },
  {
   "cell_type": "code",
   "execution_count": 12,
   "metadata": {},
   "outputs": [
    {
     "data": {
      "image/png": "[encoded data removed]",
      "text/plain": [
       "<Figure size 432x288 with 1 Axes>"
      ]
     },
     "metadata": {
      "needs_background": "light"
     },
     "output_type": "display_data"
    }
   ],
   "source": [
    "plt.bar(x=X_train.columns, height = corr_list, width = 0.5)\n",
    "plt.xticks(rotation =90)\n",
    "plt.ylabel('Correlation with Class')\n",
    "plt.title(\"Variable's Correlation Chart\")\n",
    "plt.show()"
   ]
  },
  {
   "cell_type": "code",
   "execution_count": 13,
   "metadata": {},
   "outputs": [
    {
     "data": {
      "image/png": "[encoded data removed]",
      "text/plain": [
       "<Figure size 432x288 with 1 Axes>"
      ]
     },
     "metadata": {
      "needs_background": "light"
     },
     "output_type": "display_data"
    }
   ],
   "source": [
    "plt.bar(x=X_train.columns, height = corr_list, width = 0.5)\n",
    "plt.xticks(rotation =90)\n",
    "plt.ylabel('Correlation with Class')\n",
    "plt.title(\"Variable's Correlation Chart\")\n",
    "plt.show()"
   ]
  },
  {
   "cell_type": "markdown",
   "metadata": {},
   "source": [
    "Based on the above chart, V17, V14, V12, V10 are negatively correlated with fraud and V11, V4, V2, V21 are positively correlated with fraud. None of the variables have high correlation (> 0.8) with Class variable. So it won't cause any multicollinearity."
   ]
  },
  {
   "cell_type": "code",
   "execution_count": 14,
   "metadata": {
    "scrolled": true
   },
   "outputs": [
    {
     "data": {
      "image/png": "[encoded data removed]",
      "text/plain": [
       "<Figure size 1440x576 with 4 Axes>"
      ]
     },
     "metadata": {
      "needs_background": "light"
     },
     "output_type": "display_data"
    },
    {
     "data": {
      "image/png": "[encoded data removed]",
      "text/plain": [
       "<Figure size 1440x576 with 4 Axes>"
      ]
     },
     "metadata": {
      "needs_background": "light"
     },
     "output_type": "display_data"
    }
   ],
   "source": [
    "# boxplots to show the outliers - if any\n",
    "fig, (ax1, ax2, ax3, ax4) = plt.subplots(ncols=4, figsize=(20,8))\n",
    "s = sns.boxplot(ax = ax1, y=\"V17\",data=X_train)\n",
    "s = sns.boxplot(ax = ax2, y=\"V14\",data=X_train)\n",
    "s = sns.boxplot(ax = ax3, y=\"V12\",data=X_train)\n",
    "s = sns.boxplot(ax = ax4, y=\"V10\",data=X_train)\n",
    "plt.show()\n",
    "\n",
    "fig, (ax1, ax2, ax3, ax4) = plt.subplots(ncols=4, figsize=(20,8))\n",
    "s = sns.boxplot(ax = ax1, y=\"V11\",data=X_train)\n",
    "s = sns.boxplot(ax = ax2, y=\"V4\",data=X_train)\n",
    "s = sns.boxplot(ax = ax3, y=\"V2\",data=X_train)\n",
    "s = sns.boxplot(ax = ax4, y=\"V21\",data=X_train)\n",
    "plt.show()"
   ]
  },
  {
   "cell_type": "markdown",
   "metadata": {},
   "source": [
    "V14, V12, V10, V2 & V21 have outliers. We need to remove these outliers."
   ]
  },
  {
   "cell_type": "code",
   "execution_count": 15,
   "metadata": {},
   "outputs": [],
   "source": [
    "temp_df = pd.concat([X_train, y_train], axis=1, sort=False)  # concatenate both X and y to remove outliers\n",
    "temp_df1= temp_df[temp_df.Class == 1]   # fraud class\n",
    "temp_df0= temp_df[temp_df.Class == 0]   # non fraud class"
   ]
  },
  {
   "cell_type": "markdown",
   "metadata": {},
   "source": [
    "We will now remove outliers from each type of Classes separately"
   ]
  },
  {
   "cell_type": "code",
   "execution_count": 16,
   "metadata": {},
   "outputs": [
    {
     "data": {
      "text/plain": [
       "(369, 31)"
      ]
     },
     "execution_count": 16,
     "metadata": {},
     "output_type": "execute_result"
    }
   ],
   "source": [
    "# prior to removing fraud class outlier\n",
    "temp_df1.shape"
   ]
  },
  {
   "cell_type": "code",
   "execution_count": 17,
   "metadata": {},
   "outputs": [
    {
     "data": {
      "text/plain": [
       "(342, 31)"
      ]
     },
     "execution_count": 17,
     "metadata": {},
     "output_type": "execute_result"
    }
   ],
   "source": [
    "# We will consider outlier is zscore is > 3 or < -3 and remove all of them\n",
    "zscore_V14 = stats.zscore(temp_df1.V14) # calculate zscore \n",
    "temp_df1 = temp_df1[(abs(zscore_V14) < 3)] # drop rows with zscore > 3 or < -3\n",
    "\n",
    "zscore_V12 = stats.zscore(temp_df1.V12) # calculate zscore \n",
    "temp_df1 = temp_df1[(abs(zscore_V12) < 3)] # drop rows with zscore > 3 or < -3\n",
    "\n",
    "zscore_V10 = stats.zscore(temp_df1.V10) # calculate zscore \n",
    "temp_df1 = temp_df1[(abs(zscore_V10) < 3)] # drop rows with zscore > 3 or < -3\n",
    "\n",
    "zscore_V2 = stats.zscore(temp_df1.V2) # calculate zscore \n",
    "temp_df1 = temp_df1[(abs(zscore_V2) < 3)] # drop rows with zscore > 3 or < -3\n",
    "\n",
    "zscore_V21 = stats.zscore(temp_df1.V21) # calculate zscore \n",
    "temp_df1 = temp_df1[(abs(zscore_V21) < 3)] # drop rows with zscore > 3 or < -3\n",
    "\n",
    "zscore_Amount = stats.zscore(temp_df1.Amount) # calculate zscore \n",
    "temp_df1 = temp_df1[(abs(zscore_Amount) < 3)] # drop rows with zscore > 3 or < -3\n",
    "\n",
    "# after removing fraud class outlier\n",
    "temp_df1.shape"
   ]
  },
  {
   "cell_type": "code",
   "execution_count": 18,
   "metadata": {},
   "outputs": [
    {
     "data": {
      "text/plain": [
       "(213236, 31)"
      ]
     },
     "execution_count": 18,
     "metadata": {},
     "output_type": "execute_result"
    }
   ],
   "source": [
    "# prior to removing non fraud class outlier \n",
    "temp_df0.shape"
   ]
  },
  {
   "cell_type": "code",
   "execution_count": 19,
   "metadata": {},
   "outputs": [
    {
     "data": {
      "text/plain": [
       "(194702, 31)"
      ]
     },
     "execution_count": 19,
     "metadata": {},
     "output_type": "execute_result"
    }
   ],
   "source": [
    "# We will consider outlier is zscore is > 3 or < -3 and remove all of them\n",
    "zscore_V14 = stats.zscore(temp_df0.V14) # calculate zscore \n",
    "temp_df0 = temp_df0[(abs(zscore_V14) < 3)] # drop rows with zscore > 3 or < -3\n",
    "\n",
    "zscore_V12 = stats.zscore(temp_df0.V12) # calculate zscore \n",
    "temp_df0 = temp_df0[(abs(zscore_V12) < 3)] # drop rows with zscore > 3 or < -3\n",
    "\n",
    "zscore_V10 = stats.zscore(temp_df0.V10) # calculate zscore \n",
    "temp_df0 = temp_df0[(abs(zscore_V10) < 3)] # drop rows with zscore > 3 or < -3\n",
    "\n",
    "zscore_V2 = stats.zscore(temp_df0.V2) # calculate zscore \n",
    "temp_df0 = temp_df0[(abs(zscore_V2) < 3)] # drop rows with zscore > 3 or < -3\n",
    "\n",
    "zscore_V21 = stats.zscore(temp_df0.V21) # calculate zscore \n",
    "temp_df0 = temp_df0[(abs(zscore_V21) < 3)] # drop rows with zscore > 3 or < -3\n",
    "\n",
    "zscore_Amount = stats.zscore(temp_df0.Amount) # calculate zscore \n",
    "temp_df0 = temp_df0[(abs(zscore_Amount) < 3)] # drop rows with zscore > 3 or < -3\n",
    "\n",
    "# after removing non fraud class outlier\n",
    "temp_df0.shape"
   ]
  },
  {
   "cell_type": "code",
   "execution_count": 20,
   "metadata": {},
   "outputs": [
    {
     "data": {
      "text/plain": [
       "(195044, 31)"
      ]
     },
     "execution_count": 20,
     "metadata": {},
     "output_type": "execute_result"
    }
   ],
   "source": [
    "temp_df = pd.concat([temp_df1, temp_df0], axis=0, sort=False)  # concatenate both Classes\n",
    "temp_df.shape"
   ]
  },
  {
   "cell_type": "code",
   "execution_count": 21,
   "metadata": {},
   "outputs": [],
   "source": [
    "# get X_train and y_train data after removing outlier\n",
    "X_train = temp_df.drop('Class', axis=1)  # get only independent variables\n",
    "#y_train = temp_df.loc[:,['Class']]  # get Class variable\n",
    "y_train = temp_df['Class']\n",
    "#y_train.astype('category')"
   ]
  },
  {
   "cell_type": "markdown",
   "metadata": {},
   "source": [
    "Our data is now clean and ready for model building and training."
   ]
  },
  {
   "cell_type": "markdown",
   "metadata": {},
   "source": [
    "We will use GridSearchCV to find the best parms for each model. We will use average precision score because our dataset is highly imbalanced and it returns a score instead of a class unlike f1 score. We will use cross validation number as 5, n_jobs as -1 to provide maximum CPU to training the model.\n",
    "\n",
    "Finally, we will select the best model based on best_score returned by GridSearchCV."
   ]
  },
  {
   "cell_type": "code",
   "execution_count": 22,
   "metadata": {},
   "outputs": [],
   "source": [
    "col_transformer = ColumnTransformer(\n",
    "                    transformers=[\n",
    "                        ('rs', RobustScaler(), ['Amount', \n",
    "                                                  'Time']),\n",
    "                    ],\n",
    "                    remainder='passthrough')"
   ]
  },
  {
   "cell_type": "code",
   "execution_count": 26,
   "metadata": {},
   "outputs": [],
   "source": [
    "\n",
    "#rf_pipeline = Pipeline([('rbscaler', RobustScaler()),\n",
    "#                        ('rf', RandomForestClassifier(random_state=seed, n_jobs=-1))])\n",
    "\n",
    "rf_pipeline = Pipeline([('preprocessing', col_transformer),\n",
    "                        ('rf', RandomForestClassifier(random_state=seed, n_jobs=-1))])\n",
    "params = {'rf__n_estimators': [50, 75, 100],\n",
    "          'rf__max_depth': [4, 6, 8],\n",
    "          'rf__max_features': ['sqrt', 'log2'],\n",
    "          'rf__class_weight': ['balanced', None]}\n",
    "rf_grid = GridSearchCV(rf_pipeline,\n",
    "                       param_grid=params,\n",
    "                       scoring={'avr': make_scorer(average_precision_score, needs_proba=True),\n",
    "                                'll': make_scorer(log_loss, greater_is_better=False, needs_proba=True)},\n",
    "                       n_jobs=-1,\n",
    "                       cv=5,\n",
    "                       refit='avr')\n",
    "        \n",
    "\n",
    "params = {'rf__n_estimators': [50, 75, 100],\n",
    "          'rf__max_depth': [4, 6, 8],\n",
    "          'rf__max_features': ['sqrt', 'log2'],\n",
    "          'rf__class_weight': ['balanced', None]}\n",
    "rf_grid = GridSearchCV(rf_pipeline,\n",
    "                       param_grid=params,\n",
    "                       scoring={'avr': make_scorer(average_precision_score, needs_proba=True),\n",
    "                                'll': make_scorer(log_loss, greater_is_better=False, needs_proba=True)},\n",
    "                       n_jobs=-1,\n",
    "                       cv=5,\n",
    "                       refit='avr')\n",
    "        \n"
   ]
  },
  {
   "cell_type": "code",
   "execution_count": 27,
   "metadata": {},
   "outputs": [
    {
     "data": {
      "text/plain": [
       "GridSearchCV(cv=5, error_score='raise-deprecating',\n",
       "             estimator=Pipeline(memory=None,\n",
       "                                steps=[('preprocessing',\n",
       "                                        ColumnTransformer(n_jobs=None,\n",
       "                                                          remainder='passthrough',\n",
       "                                                          sparse_threshold=0.3,\n",
       "                                                          transformer_weights=None,\n",
       "                                                          transformers=[('rs',\n",
       "                                                                         RobustScaler(copy=True,\n",
       "                                                                                      quantile_range=(25.0,\n",
       "                                                                                                      75.0),\n",
       "                                                                                      with_centering=True,\n",
       "                                                                                      with_scaling=True),\n",
       "                                                                         ['Amount',\n",
       "                                                                          'Time'])],\n",
       "                                                          verbose=False)),...\n",
       "             iid='warn', n_jobs=-1,\n",
       "             param_grid={'rf__class_weight': ['balanced', None],\n",
       "                         'rf__max_depth': [4, 6, 8],\n",
       "                         'rf__max_features': ['sqrt', 'log2'],\n",
       "                         'rf__n_estimators': [50, 75, 100]},\n",
       "             pre_dispatch='2*n_jobs', refit='avr', return_train_score=False,\n",
       "             scoring={'avr': make_scorer(average_precision_score, needs_proba=True),\n",
       "                      'll': make_scorer(log_loss, greater_is_better=False, needs_proba=True)},\n",
       "             verbose=0)"
      ]
     },
     "execution_count": 27,
     "metadata": {},
     "output_type": "execute_result"
    }
   ],
   "source": [
    "rf_grid.fit(X_train, y_train)"
   ]
  },
  {
   "cell_type": "code",
   "execution_count": 28,
   "metadata": {},
   "outputs": [],
   "source": [
    "rf_grid = joblib.load('rf_model.sav')"
   ]
  },
  {
   "cell_type": "code",
   "execution_count": 29,
   "metadata": {},
   "outputs": [
    {
     "data": {
      "text/plain": [
       "{'mean_fit_time': array([ 30.79300904,  40.59356446,  51.1444561 ,  24.03172803,\n",
       "         33.74767427,  44.10732908,  42.09363947,  59.39905324,\n",
       "         76.33606257,  36.08658371,  47.94124579,  62.06531987,\n",
       "         51.10293798,  72.57173705,  93.96248889,  42.70417228,\n",
       "         57.5960115 ,  75.03699269,  30.90245819,  40.85639777,\n",
       "         52.42517581,  25.48309574,  34.26349907,  44.20383415,\n",
       "         42.95853519,  60.10498261,  75.98009162,  35.64969606,\n",
       "         49.17821121, 125.23802567, 168.29061379, 816.25100698,\n",
       "        775.09456053, 308.21680789,  56.92937322,  51.06654615]),\n",
       " 'std_fit_time': array([4.50381494e-01, 3.20870098e-01, 8.04983967e-01, 7.29765653e-01,\n",
       "        3.69774200e-01, 2.54964353e-01, 4.55051924e-01, 9.02423227e-01,\n",
       "        5.27759017e-01, 9.18384995e-01, 5.16754245e-01, 7.58018882e-01,\n",
       "        1.07735486e+00, 1.13352772e+00, 1.09868235e+00, 1.19877729e+00,\n",
       "        7.01716481e-01, 3.67686207e-01, 2.66198389e-01, 2.46545356e-01,\n",
       "        5.64813012e-01, 1.31517909e-01, 5.79309367e-01, 1.36437292e-01,\n",
       "        1.13058884e-01, 8.71289295e-01, 1.39863672e-01, 5.60959744e-01,\n",
       "        9.44362895e-01, 4.83067756e+01, 8.95333692e+00, 4.90124337e+01,\n",
       "        5.82330370e+00, 3.22465006e+02, 3.33958121e+00, 6.40246596e-01]),\n",
       " 'mean_score_time': array([ 0.66467519,  0.74904218,  0.65748448,  0.66162786,  0.60850773,\n",
       "         0.7178792 ,  0.59563179,  0.68894525,  0.59042344,  0.62724714,\n",
       "         0.68584433,  0.52855496,  0.60724273,  0.68045502,  0.60881362,\n",
       "         0.54478068,  0.64749694,  0.45887952,  0.56439943,  0.51467047,\n",
       "         0.60556626,  0.47798719,  0.56588249,  0.58098021,  0.49921565,\n",
       "         0.5524982 ,  0.55018501,  0.51842079,  0.71030755, 20.30557985,\n",
       "         2.28783059,  0.62312489,  0.53900023,  0.55429664,  0.39630194,\n",
       "         0.28619957]),\n",
       " 'std_score_time': array([5.68712601e-02, 6.73579608e-02, 6.73925870e-02, 6.20748611e-02,\n",
       "        4.27445203e-02, 1.10329378e-01, 1.02912896e-01, 2.30424444e-02,\n",
       "        9.26531046e-02, 5.04894833e-02, 1.01459066e-01, 3.85071758e-02,\n",
       "        1.24931589e-01, 1.20009239e-01, 2.29294613e-01, 1.31827963e-01,\n",
       "        1.05645878e-01, 6.28500869e-02, 3.69750233e-02, 9.18920295e-02,\n",
       "        6.39205095e-02, 7.76406488e-02, 4.25521304e-02, 6.65610793e-02,\n",
       "        7.31552946e-02, 4.48202119e-02, 6.66170609e-02, 6.48975619e-02,\n",
       "        1.41868435e-01, 3.92377557e+01, 1.39019066e+00, 8.40025466e-02,\n",
       "        1.24959260e-01, 1.32748289e-01, 9.25063016e-02, 1.71184620e-02]),\n",
       " 'param_rf__class_weight': masked_array(data=['balanced', 'balanced', 'balanced', 'balanced',\n",
       "                    'balanced', 'balanced', 'balanced', 'balanced',\n",
       "                    'balanced', 'balanced', 'balanced', 'balanced',\n",
       "                    'balanced', 'balanced', 'balanced', 'balanced',\n",
       "                    'balanced', 'balanced', None, None, None, None, None,\n",
       "                    None, None, None, None, None, None, None, None, None,\n",
       "                    None, None, None, None],\n",
       "              mask=[False, False, False, False, False, False, False, False,\n",
       "                    False, False, False, False, False, False, False, False,\n",
       "                    False, False, False, False, False, False, False, False,\n",
       "                    False, False, False, False, False, False, False, False,\n",
       "                    False, False, False, False],\n",
       "        fill_value='?',\n",
       "             dtype=object),\n",
       " 'param_rf__max_depth': masked_array(data=[4, 4, 4, 4, 4, 4, 6, 6, 6, 6, 6, 6, 8, 8, 8, 8, 8, 8,\n",
       "                    4, 4, 4, 4, 4, 4, 6, 6, 6, 6, 6, 6, 8, 8, 8, 8, 8, 8],\n",
       "              mask=[False, False, False, False, False, False, False, False,\n",
       "                    False, False, False, False, False, False, False, False,\n",
       "                    False, False, False, False, False, False, False, False,\n",
       "                    False, False, False, False, False, False, False, False,\n",
       "                    False, False, False, False],\n",
       "        fill_value='?',\n",
       "             dtype=object),\n",
       " 'param_rf__max_features': masked_array(data=['sqrt', 'sqrt', 'sqrt', 'log2', 'log2', 'log2', 'sqrt',\n",
       "                    'sqrt', 'sqrt', 'log2', 'log2', 'log2', 'sqrt', 'sqrt',\n",
       "                    'sqrt', 'log2', 'log2', 'log2', 'sqrt', 'sqrt', 'sqrt',\n",
       "                    'log2', 'log2', 'log2', 'sqrt', 'sqrt', 'sqrt', 'log2',\n",
       "                    'log2', 'log2', 'sqrt', 'sqrt', 'sqrt', 'log2', 'log2',\n",
       "                    'log2'],\n",
       "              mask=[False, False, False, False, False, False, False, False,\n",
       "                    False, False, False, False, False, False, False, False,\n",
       "                    False, False, False, False, False, False, False, False,\n",
       "                    False, False, False, False, False, False, False, False,\n",
       "                    False, False, False, False],\n",
       "        fill_value='?',\n",
       "             dtype=object),\n",
       " 'param_rf__n_estimators': masked_array(data=[50, 75, 100, 50, 75, 100, 50, 75, 100, 50, 75, 100, 50,\n",
       "                    75, 100, 50, 75, 100, 50, 75, 100, 50, 75, 100, 50, 75,\n",
       "                    100, 50, 75, 100, 50, 75, 100, 50, 75, 100],\n",
       "              mask=[False, False, False, False, False, False, False, False,\n",
       "                    False, False, False, False, False, False, False, False,\n",
       "                    False, False, False, False, False, False, False, False,\n",
       "                    False, False, False, False, False, False, False, False,\n",
       "                    False, False, False, False],\n",
       "        fill_value='?',\n",
       "             dtype=object),\n",
       " 'params': [{'rf__class_weight': 'balanced',\n",
       "   'rf__max_depth': 4,\n",
       "   'rf__max_features': 'sqrt',\n",
       "   'rf__n_estimators': 50},\n",
       "  {'rf__class_weight': 'balanced',\n",
       "   'rf__max_depth': 4,\n",
       "   'rf__max_features': 'sqrt',\n",
       "   'rf__n_estimators': 75},\n",
       "  {'rf__class_weight': 'balanced',\n",
       "   'rf__max_depth': 4,\n",
       "   'rf__max_features': 'sqrt',\n",
       "   'rf__n_estimators': 100},\n",
       "  {'rf__class_weight': 'balanced',\n",
       "   'rf__max_depth': 4,\n",
       "   'rf__max_features': 'log2',\n",
       "   'rf__n_estimators': 50},\n",
       "  {'rf__class_weight': 'balanced',\n",
       "   'rf__max_depth': 4,\n",
       "   'rf__max_features': 'log2',\n",
       "   'rf__n_estimators': 75},\n",
       "  {'rf__class_weight': 'balanced',\n",
       "   'rf__max_depth': 4,\n",
       "   'rf__max_features': 'log2',\n",
       "   'rf__n_estimators': 100},\n",
       "  {'rf__class_weight': 'balanced',\n",
       "   'rf__max_depth': 6,\n",
       "   'rf__max_features': 'sqrt',\n",
       "   'rf__n_estimators': 50},\n",
       "  {'rf__class_weight': 'balanced',\n",
       "   'rf__max_depth': 6,\n",
       "   'rf__max_features': 'sqrt',\n",
       "   'rf__n_estimators': 75},\n",
       "  {'rf__class_weight': 'balanced',\n",
       "   'rf__max_depth': 6,\n",
       "   'rf__max_features': 'sqrt',\n",
       "   'rf__n_estimators': 100},\n",
       "  {'rf__class_weight': 'balanced',\n",
       "   'rf__max_depth': 6,\n",
       "   'rf__max_features': 'log2',\n",
       "   'rf__n_estimators': 50},\n",
       "  {'rf__class_weight': 'balanced',\n",
       "   'rf__max_depth': 6,\n",
       "   'rf__max_features': 'log2',\n",
       "   'rf__n_estimators': 75},\n",
       "  {'rf__class_weight': 'balanced',\n",
       "   'rf__max_depth': 6,\n",
       "   'rf__max_features': 'log2',\n",
       "   'rf__n_estimators': 100},\n",
       "  {'rf__class_weight': 'balanced',\n",
       "   'rf__max_depth': 8,\n",
       "   'rf__max_features': 'sqrt',\n",
       "   'rf__n_estimators': 50},\n",
       "  {'rf__class_weight': 'balanced',\n",
       "   'rf__max_depth': 8,\n",
       "   'rf__max_features': 'sqrt',\n",
       "   'rf__n_estimators': 75},\n",
       "  {'rf__class_weight': 'balanced',\n",
       "   'rf__max_depth': 8,\n",
       "   'rf__max_features': 'sqrt',\n",
       "   'rf__n_estimators': 100},\n",
       "  {'rf__class_weight': 'balanced',\n",
       "   'rf__max_depth': 8,\n",
       "   'rf__max_features': 'log2',\n",
       "   'rf__n_estimators': 50},\n",
       "  {'rf__class_weight': 'balanced',\n",
       "   'rf__max_depth': 8,\n",
       "   'rf__max_features': 'log2',\n",
       "   'rf__n_estimators': 75},\n",
       "  {'rf__class_weight': 'balanced',\n",
       "   'rf__max_depth': 8,\n",
       "   'rf__max_features': 'log2',\n",
       "   'rf__n_estimators': 100},\n",
       "  {'rf__class_weight': None,\n",
       "   'rf__max_depth': 4,\n",
       "   'rf__max_features': 'sqrt',\n",
       "   'rf__n_estimators': 50},\n",
       "  {'rf__class_weight': None,\n",
       "   'rf__max_depth': 4,\n",
       "   'rf__max_features': 'sqrt',\n",
       "   'rf__n_estimators': 75},\n",
       "  {'rf__class_weight': None,\n",
       "   'rf__max_depth': 4,\n",
       "   'rf__max_features': 'sqrt',\n",
       "   'rf__n_estimators': 100},\n",
       "  {'rf__class_weight': None,\n",
       "   'rf__max_depth': 4,\n",
       "   'rf__max_features': 'log2',\n",
       "   'rf__n_estimators': 50},\n",
       "  {'rf__class_weight': None,\n",
       "   'rf__max_depth': 4,\n",
       "   'rf__max_features': 'log2',\n",
       "   'rf__n_estimators': 75},\n",
       "  {'rf__class_weight': None,\n",
       "   'rf__max_depth': 4,\n",
       "   'rf__max_features': 'log2',\n",
       "   'rf__n_estimators': 100},\n",
       "  {'rf__class_weight': None,\n",
       "   'rf__max_depth': 6,\n",
       "   'rf__max_features': 'sqrt',\n",
       "   'rf__n_estimators': 50},\n",
       "  {'rf__class_weight': None,\n",
       "   'rf__max_depth': 6,\n",
       "   'rf__max_features': 'sqrt',\n",
       "   'rf__n_estimators': 75},\n",
       "  {'rf__class_weight': None,\n",
       "   'rf__max_depth': 6,\n",
       "   'rf__max_features': 'sqrt',\n",
       "   'rf__n_estimators': 100},\n",
       "  {'rf__class_weight': None,\n",
       "   'rf__max_depth': 6,\n",
       "   'rf__max_features': 'log2',\n",
       "   'rf__n_estimators': 50},\n",
       "  {'rf__class_weight': None,\n",
       "   'rf__max_depth': 6,\n",
       "   'rf__max_features': 'log2',\n",
       "   'rf__n_estimators': 75},\n",
       "  {'rf__class_weight': None,\n",
       "   'rf__max_depth': 6,\n",
       "   'rf__max_features': 'log2',\n",
       "   'rf__n_estimators': 100},\n",
       "  {'rf__class_weight': None,\n",
       "   'rf__max_depth': 8,\n",
       "   'rf__max_features': 'sqrt',\n",
       "   'rf__n_estimators': 50},\n",
       "  {'rf__class_weight': None,\n",
       "   'rf__max_depth': 8,\n",
       "   'rf__max_features': 'sqrt',\n",
       "   'rf__n_estimators': 75},\n",
       "  {'rf__class_weight': None,\n",
       "   'rf__max_depth': 8,\n",
       "   'rf__max_features': 'sqrt',\n",
       "   'rf__n_estimators': 100},\n",
       "  {'rf__class_weight': None,\n",
       "   'rf__max_depth': 8,\n",
       "   'rf__max_features': 'log2',\n",
       "   'rf__n_estimators': 50},\n",
       "  {'rf__class_weight': None,\n",
       "   'rf__max_depth': 8,\n",
       "   'rf__max_features': 'log2',\n",
       "   'rf__n_estimators': 75},\n",
       "  {'rf__class_weight': None,\n",
       "   'rf__max_depth': 8,\n",
       "   'rf__max_features': 'log2',\n",
       "   'rf__n_estimators': 100}],\n",
       " 'split0_test_avr': array([0.88094649, 0.88531553, 0.88530567, 0.88415742, 0.88385747,\n",
       "        0.88523349, 0.8755556 , 0.88057089, 0.88244481, 0.88218088,\n",
       "        0.8833741 , 0.8868494 , 0.88259945, 0.88667987, 0.88762822,\n",
       "        0.88747607, 0.88270042, 0.88437294, 0.88653666, 0.88614188,\n",
       "        0.88524769, 0.88468035, 0.88720865, 0.88641677, 0.88591211,\n",
       "        0.88603614, 0.88666468, 0.88986557, 0.8880939 , 0.8892486 ,\n",
       "        0.88789465, 0.89300997, 0.89218127, 0.89450728, 0.89264991,\n",
       "        0.89065631]),\n",
       " 'split1_test_avr': array([0.90993403, 0.91038695, 0.90894513, 0.90912881, 0.91123316,\n",
       "        0.90841557, 0.90761947, 0.90686656, 0.90547268, 0.90810218,\n",
       "        0.90928525, 0.90638448, 0.90599655, 0.90539857, 0.90217211,\n",
       "        0.89681909, 0.90172763, 0.90199509, 0.90208682, 0.901283  ,\n",
       "        0.9012308 , 0.90080295, 0.90220795, 0.90230537, 0.91648167,\n",
       "        0.91513567, 0.91470445, 0.90356554, 0.90344634, 0.90312912,\n",
       "        0.90814728, 0.90700421, 0.90883915, 0.90961397, 0.90737059,\n",
       "        0.90723774]),\n",
       " 'split2_test_avr': array([0.85279339, 0.85268865, 0.85250646, 0.8543471 , 0.85228599,\n",
       "        0.85001152, 0.85426351, 0.85181059, 0.85089524, 0.85360653,\n",
       "        0.8541071 , 0.85213445, 0.85772429, 0.85750689, 0.85612407,\n",
       "        0.84938728, 0.85050953, 0.84928197, 0.86709199, 0.86425286,\n",
       "        0.86314467, 0.84634487, 0.85572678, 0.85673927, 0.861375  ,\n",
       "        0.86077244, 0.86083332, 0.85250118, 0.86125546, 0.85962008,\n",
       "        0.86352521, 0.86208288, 0.86154711, 0.85290192, 0.85875802,\n",
       "        0.85769331]),\n",
       " 'split3_test_avr': array([0.83573794, 0.83529919, 0.83744503, 0.8330589 , 0.83628581,\n",
       "        0.83658735, 0.840828  , 0.84402004, 0.84768582, 0.84429681,\n",
       "        0.84003972, 0.84169345, 0.84271779, 0.84434899, 0.84861154,\n",
       "        0.84699044, 0.85223584, 0.85310266, 0.87134107, 0.87173063,\n",
       "        0.87177165, 0.87200386, 0.87376655, 0.87326291, 0.87525648,\n",
       "        0.87487271, 0.87411058, 0.87219079, 0.87306223, 0.87291991,\n",
       "        0.87181059, 0.87260903, 0.87259021, 0.8725473 , 0.8732219 ,\n",
       "        0.87298537]),\n",
       " 'split4_test_avr': array([0.84061455, 0.8401415 , 0.83974127, 0.84388193, 0.84057003,\n",
       "        0.83793167, 0.8427063 , 0.84437891, 0.84262071, 0.83526684,\n",
       "        0.83683086, 0.83847926, 0.84895271, 0.84992682, 0.85156125,\n",
       "        0.84460799, 0.84307201, 0.8466491 , 0.85492359, 0.8545695 ,\n",
       "        0.85563007, 0.84999953, 0.84923376, 0.85336142, 0.85330809,\n",
       "        0.85562879, 0.85518803, 0.8541496 , 0.8529613 , 0.856672  ,\n",
       "        0.84733091, 0.85655285, 0.85520505, 0.85463671, 0.85268603,\n",
       "        0.85690863]),\n",
       " 'mean_test_avr': array([0.86400562, 0.86476674, 0.86478908, 0.86491519, 0.86484685,\n",
       "        0.86363629, 0.86419486, 0.86552969, 0.86582414, 0.86469098,\n",
       "        0.86472776, 0.86510857, 0.86759845, 0.86877253, 0.86921972,\n",
       "        0.86505648, 0.86604935, 0.86708061, 0.87639621, 0.87559575,\n",
       "        0.87540514, 0.87076648, 0.87362893, 0.87441732, 0.87846685,\n",
       "        0.87848932, 0.87830039, 0.87445473, 0.87576403, 0.87631812,\n",
       "        0.87574195, 0.878252  , 0.87807277, 0.87684166, 0.87693751,\n",
       "        0.87709646]),\n",
       " 'std_test_avr': array([0.02781483, 0.02871957, 0.02791643, 0.02790701, 0.02855157,\n",
       "        0.02845919, 0.02498462, 0.02463009, 0.02424262, 0.02681414,\n",
       "        0.02768965, 0.02684056, 0.02351021, 0.02341249, 0.02159977,\n",
       "        0.02236763, 0.02240739, 0.02212542, 0.01634644, 0.01647275,\n",
       "        0.01623831, 0.02061554, 0.01957958, 0.01832445, 0.02207241,\n",
       "        0.02121075, 0.02122287, 0.01992145, 0.01819944, 0.01767694,\n",
       "        0.02083113, 0.01901907, 0.01985804, 0.02222934, 0.02052066,\n",
       "        0.0194592 ]),\n",
       " 'rank_test_avr': array([35, 31, 30, 28, 29, 36, 34, 25, 24, 33, 32, 26, 21, 20, 19, 27, 23,\n",
       "        22,  9, 13, 14, 18, 17, 16,  2,  1,  3, 15, 11, 10, 12,  4,  5,  8,\n",
       "         7,  6], dtype=int32),\n",
       " 'split0_test_ll': array([-0.09871892, -0.09794253, -0.09836467, -0.10836289, -0.10860798,\n",
       "        -0.10849534, -0.05652927, -0.05541273, -0.05516573, -0.0651878 ,\n",
       "        -0.06461306, -0.06440179, -0.02696373, -0.02767237, -0.02707992,\n",
       "        -0.03062439, -0.03074764, -0.03073775, -0.0022049 , -0.00220729,\n",
       "        -0.00222901, -0.00234696, -0.00228301, -0.00228745, -0.00211013,\n",
       "        -0.00211047, -0.00210809, -0.00213285, -0.00212822, -0.00210618,\n",
       "        -0.00203173, -0.00196736, -0.00197364, -0.00196073, -0.00195672,\n",
       "        -0.00197571]),\n",
       " 'split1_test_ll': array([-0.09531707, -0.09455924, -0.09507897, -0.10384261, -0.10491101,\n",
       "        -0.10615423, -0.05139255, -0.05083768, -0.05292973, -0.05750726,\n",
       "        -0.05940388, -0.0601518 , -0.0261417 , -0.02591031, -0.02578661,\n",
       "        -0.02867073, -0.02919728, -0.02874092, -0.00185571, -0.00184609,\n",
       "        -0.00185145, -0.00198283, -0.00193694, -0.00196275, -0.00167552,\n",
       "        -0.00168004, -0.001686  , -0.00180978, -0.00179889, -0.00180812,\n",
       "        -0.00168732, -0.00169117, -0.0016805 , -0.00168919, -0.00169897,\n",
       "        -0.00170979]),\n",
       " 'split2_test_ll': array([-0.08851652, -0.08875908, -0.0899116 , -0.09695777, -0.09804447,\n",
       "        -0.09901717, -0.05088395, -0.05140309, -0.05184345, -0.0529218 ,\n",
       "        -0.05537475, -0.05595627, -0.02477448, -0.02626435, -0.02638049,\n",
       "        -0.02943868, -0.02936667, -0.03003824, -0.00245888, -0.00246008,\n",
       "        -0.00247057, -0.0026909 , -0.00258445, -0.00259672, -0.00238858,\n",
       "        -0.00240101, -0.00240908, -0.00250703, -0.00243009, -0.00245222,\n",
       "        -0.00233569, -0.00235554, -0.00236288, -0.00242654, -0.00238606,\n",
       "        -0.00240089]),\n",
       " 'split3_test_ll': array([-0.08630419, -0.0864539 , -0.08692883, -0.09407806, -0.09389834,\n",
       "        -0.09459755, -0.04717764, -0.0458417 , -0.04738627, -0.05212459,\n",
       "        -0.05320657, -0.0534574 , -0.02277699, -0.02317912, -0.02410828,\n",
       "        -0.02772641, -0.0275247 , -0.02840089, -0.00248665, -0.00245757,\n",
       "        -0.00245718, -0.00263802, -0.00259194, -0.00260567, -0.00238902,\n",
       "        -0.00236737, -0.00235963, -0.00246749, -0.00242134, -0.00241969,\n",
       "        -0.00235875, -0.00233299, -0.00233028, -0.00238687, -0.00235343,\n",
       "        -0.00236911]),\n",
       " 'split4_test_ll': array([-0.08801324, -0.08692834, -0.08722434, -0.09835463, -0.09620233,\n",
       "        -0.09647931, -0.05518679, -0.05161194, -0.05044359, -0.05413547,\n",
       "        -0.05284868, -0.05350925, -0.0262193 , -0.02485122, -0.02534189,\n",
       "        -0.03135062, -0.02928449, -0.02804139, -0.00261722, -0.00261324,\n",
       "        -0.00260052, -0.00272419, -0.0027075 , -0.00269377, -0.00257159,\n",
       "        -0.00252657, -0.00251687, -0.00254524, -0.00255196, -0.002538  ,\n",
       "        -0.00260823, -0.00246992, -0.00247701, -0.00249278, -0.00250486,\n",
       "        -0.00249525]),\n",
       " 'mean_test_ll': array([-0.09137407, -0.0909287 , -0.09150176, -0.10031927, -0.10033292,\n",
       "        -0.10094881, -0.05223407, -0.05102147, -0.0515538 , -0.05637546,\n",
       "        -0.05708947, -0.05749538, -0.02537526, -0.0255755 , -0.02573946,\n",
       "        -0.02956217, -0.02922417, -0.02919186, -0.00232467, -0.00231685,\n",
       "        -0.00232174, -0.00247658, -0.00242077, -0.00242927, -0.00222696,\n",
       "        -0.00221709, -0.00221593, -0.00229247, -0.0022661 , -0.00226484,\n",
       "        -0.00220434, -0.00216339, -0.00216486, -0.00219122, -0.00218   ,\n",
       "        -0.00219015]),\n",
       " 'std_test_ll': array([0.00478873, 0.00454113, 0.00450851, 0.00512303, 0.00553424,\n",
       "        0.0054423 , 0.00332462, 0.00305422, 0.00259322, 0.004774  ,\n",
       "        0.00442636, 0.00422657, 0.00147885, 0.00150005, 0.00100287,\n",
       "        0.00130436, 0.00102312, 0.00102555, 0.00026985, 0.00026899,\n",
       "        0.00026381, 0.00028068, 0.00027978, 0.00027088, 0.00031269,\n",
       "        0.00030066, 0.00029697, 0.0002825 , 0.00027203, 0.0002711 ,\n",
       "        0.00031664, 0.0002902 , 0.00029502, 0.00031297, 0.00030309,\n",
       "        0.00029875]),\n",
       " 'rank_test_ll': array([32, 31, 33, 34, 35, 36, 27, 25, 26, 28, 29, 30, 19, 20, 21, 24, 23,\n",
       "        22, 15, 13, 14, 18, 16, 17,  9,  8,  7, 12, 11, 10,  6,  1,  2,  5,\n",
       "         3,  4], dtype=int32)}"
      ]
     },
     "execution_count": 29,
     "metadata": {},
     "output_type": "execute_result"
    }
   ],
   "source": [
    "rf_grid.cv_results_"
   ]
  },
  {
   "cell_type": "code",
   "execution_count": 30,
   "metadata": {},
   "outputs": [
    {
     "data": {
      "text/plain": [
       "(0.8784893202350404,\n",
       " {'rf__class_weight': None,\n",
       "  'rf__max_depth': 6,\n",
       "  'rf__max_features': 'sqrt',\n",
       "  'rf__n_estimators': 75})"
      ]
     },
     "execution_count": 30,
     "metadata": {},
     "output_type": "execute_result"
    }
   ],
   "source": [
    "rf_grid.best_score_, rf_grid.best_params_\n"
   ]
  },
  {
   "cell_type": "code",
   "execution_count": 31,
   "metadata": {},
   "outputs": [
    {
     "data": {
      "text/plain": [
       "['rf_model.sav']"
      ]
     },
     "execution_count": 31,
     "metadata": {},
     "output_type": "execute_result"
    }
   ],
   "source": [
    "rf_file = 'rf_model.sav'  # file name to store RF model\n",
    "joblib.dump(rf_grid, rf_file)  # stores the model"
   ]
  },
  {
   "cell_type": "code",
   "execution_count": 32,
   "metadata": {},
   "outputs": [],
   "source": [
    "from sklearn.calibration import CalibratedClassifierCV, calibration_curve\n",
    "\n",
    "predictions = rf_grid.predict_proba(X_train)[:, 1]\n",
    "binned_true_p, binned_predict_p = calibration_curve(y_train, predictions, n_bins=10)"
   ]
  },
  {
   "cell_type": "code",
   "execution_count": 33,
   "metadata": {},
   "outputs": [
    {
     "data": {
      "image/png": "[encoded data removed]",
      "text/plain": [
       "<Figure size 432x288 with 1 Axes>"
      ]
     },
     "metadata": {
      "needs_background": "light"
     },
     "output_type": "display_data"
    }
   ],
   "source": [
    "plt.scatter(binned_true_p, binned_predict_p)\n",
    "m, b = np.polyfit(binned_true_p, binned_predict_p, 1)\n",
    "plt.plot(binned_true_p, m*binned_true_p + b)\n",
    "plt.show()"
   ]
  },
  {
   "cell_type": "code",
   "execution_count": 34,
   "metadata": {},
   "outputs": [],
   "source": [
    "#calibrated_rf_grid = CalibratedClassifierCV(rf_grid, cv=5, method='isotonic')\n",
    "# Note we need to refit!\n",
    "#calibrated_rf_grid.fit(X_train, y_train);\n",
    "\n",
    "#rfc_file = 'rfc_model.sav'  # file name to store RF model\n",
    "#joblib.dump(calibrated_rf_grid, rfc_file)  # stores the model"
   ]
  },
  {
   "cell_type": "code",
   "execution_count": 37,
   "metadata": {},
   "outputs": [],
   "source": [
    "lr_pipeline = Pipeline([('preprocessing', col_transformer),\n",
    "                        ('select_best', SelectKBest()),\n",
    "                        ('logistic', LogisticRegression(class_weight='balanced', random_state=seed))])"
   ]
  },
  {
   "cell_type": "code",
   "execution_count": 38,
   "metadata": {},
   "outputs": [],
   "source": [
    "params = {'logistic__C': [0.1, 1.0, 10.0],\n",
    "          'select_best__k': [3,5,7,9,'all']}\n",
    "lr_grid = GridSearchCV(lr_pipeline,\n",
    "                       param_grid=params,\n",
    "                       scoring={'avr': make_scorer(average_precision_score, needs_proba=True),\n",
    "                                'll': make_scorer(log_loss, greater_is_better=False, needs_proba=True)},\n",
    "                       n_jobs=-1,\n",
    "                       cv=5,\n",
    "                       refit='avr')"
   ]
  },
  {
   "cell_type": "code",
   "execution_count": 39,
   "metadata": {},
   "outputs": [
    {
     "name": "stderr",
     "output_type": "stream",
     "text": [
      "/Users/saurabhbiswas/opt/anaconda3/lib/python3.7/site-packages/sklearn/linear_model/logistic.py:432: FutureWarning: Default solver will be changed to 'lbfgs' in 0.22. Specify a solver to silence this warning.\n",
      "  FutureWarning)\n"
     ]
    },
    {
     "data": {
      "text/plain": [
       "['lr_model.sav']"
      ]
     },
     "execution_count": 39,
     "metadata": {},
     "output_type": "execute_result"
    }
   ],
   "source": [
    "lr_grid.fit(X_train, y_train)\n",
    "lr_file = 'lr_model.sav'  # file name to store LR model\n",
    "joblib.dump(lr_grid, lr_file)  # stores the model"
   ]
  },
  {
   "cell_type": "code",
   "execution_count": 40,
   "metadata": {},
   "outputs": [
    {
     "data": {
      "text/plain": [
       "{'mean_fit_time': array([ 1.91638603,  2.41345167,  2.19800081,  2.52693205, 14.0557898 ,\n",
       "         1.15588193,  1.45459895,  1.73614216,  2.26927519, 16.84380975,\n",
       "         1.08928103,  1.31509795,  1.56511192,  2.16356063, 12.19531174]),\n",
       " 'std_fit_time': array([0.29812788, 0.07213114, 0.36651596, 0.03991664, 1.21481122,\n",
       "        0.03681557, 0.0390448 , 0.05766578, 0.06652325, 0.90958903,\n",
       "        0.02775591, 0.06383619, 0.09388511, 0.08684622, 1.11324889]),\n",
       " 'mean_score_time': array([0.12890239, 0.11358757, 0.11952839, 0.08225312, 0.13348823,\n",
       "        0.09446073, 0.09659929, 0.10469785, 0.08486919, 0.10122461,\n",
       "        0.08141484, 0.08435698, 0.08828464, 0.07975368, 0.05982895]),\n",
       " 'std_score_time': array([0.03380771, 0.01524689, 0.0471573 , 0.00501694, 0.01200993,\n",
       "        0.00805603, 0.00664738, 0.00880897, 0.00753705, 0.01721951,\n",
       "        0.00717898, 0.00720625, 0.01911823, 0.00835909, 0.00748787]),\n",
       " 'param_logistic__C': masked_array(data=[0.1, 0.1, 0.1, 0.1, 0.1, 1.0, 1.0, 1.0, 1.0, 1.0, 10.0,\n",
       "                    10.0, 10.0, 10.0, 10.0],\n",
       "              mask=[False, False, False, False, False, False, False, False,\n",
       "                    False, False, False, False, False, False, False],\n",
       "        fill_value='?',\n",
       "             dtype=object),\n",
       " 'param_select_best__k': masked_array(data=[3, 5, 7, 9, 'all', 3, 5, 7, 9, 'all', 3, 5, 7, 9,\n",
       "                    'all'],\n",
       "              mask=[False, False, False, False, False, False, False, False,\n",
       "                    False, False, False, False, False, False, False],\n",
       "        fill_value='?',\n",
       "             dtype=object),\n",
       " 'params': [{'logistic__C': 0.1, 'select_best__k': 3},\n",
       "  {'logistic__C': 0.1, 'select_best__k': 5},\n",
       "  {'logistic__C': 0.1, 'select_best__k': 7},\n",
       "  {'logistic__C': 0.1, 'select_best__k': 9},\n",
       "  {'logistic__C': 0.1, 'select_best__k': 'all'},\n",
       "  {'logistic__C': 1.0, 'select_best__k': 3},\n",
       "  {'logistic__C': 1.0, 'select_best__k': 5},\n",
       "  {'logistic__C': 1.0, 'select_best__k': 7},\n",
       "  {'logistic__C': 1.0, 'select_best__k': 9},\n",
       "  {'logistic__C': 1.0, 'select_best__k': 'all'},\n",
       "  {'logistic__C': 10.0, 'select_best__k': 3},\n",
       "  {'logistic__C': 10.0, 'select_best__k': 5},\n",
       "  {'logistic__C': 10.0, 'select_best__k': 7},\n",
       "  {'logistic__C': 10.0, 'select_best__k': 9},\n",
       "  {'logistic__C': 10.0, 'select_best__k': 'all'}],\n",
       " 'split0_test_avr': array([0.85801568, 0.85031216, 0.85329095, 0.88437548, 0.92048706,\n",
       "        0.85801911, 0.85030493, 0.8532512 , 0.88417252, 0.92009277,\n",
       "        0.85801983, 0.850304  , 0.85325102, 0.88417488, 0.90530442]),\n",
       " 'split1_test_avr': array([0.91073782, 0.91032421, 0.91698817, 0.91639455, 0.93938118,\n",
       "        0.91065279, 0.91033635, 0.91698461, 0.91638515, 0.93865618,\n",
       "        0.91065278, 0.9103363 , 0.91698462, 0.91638225, 0.91107261]),\n",
       " 'split2_test_avr': array([0.84231411, 0.84125174, 0.84068525, 0.85183991, 0.86293717,\n",
       "        0.84231332, 0.84125121, 0.8406844 , 0.85191205, 0.85464614,\n",
       "        0.84231314, 0.84125113, 0.84068431, 0.85191205, 0.85123497]),\n",
       " 'split3_test_avr': array([0.83885137, 0.83817253, 0.83250108, 0.84108129, 0.83035399,\n",
       "        0.83885532, 0.83811849, 0.83249711, 0.84110511, 0.83087608,\n",
       "        0.83885535, 0.8381187 , 0.83249708, 0.84110248, 0.83032931]),\n",
       " 'split4_test_avr': array([0.82883061, 0.82904434, 0.83435559, 0.84913058, 0.8386565 ,\n",
       "        0.82882749, 0.82905057, 0.83435037, 0.84913111, 0.83200219,\n",
       "        0.82882474, 0.82904554, 0.83434982, 0.84913215, 0.79790798]),\n",
       " 'mean_test_avr': array([0.85575051, 0.85382154, 0.85556482, 0.86856502, 0.87836424,\n",
       "        0.85573419, 0.85381285, 0.85555414, 0.86854184, 0.87525578,\n",
       "        0.85573375, 0.85381168, 0.85555398, 0.86854141, 0.85917086]),\n",
       " 'std_test_avr': array([0.02905031, 0.02905769, 0.03156346, 0.0281086 , 0.04385696,\n",
       "        0.02901837, 0.0290674 , 0.03156401, 0.02806938, 0.04537676,\n",
       "        0.0290189 , 0.02906824, 0.0315641 , 0.02806902, 0.04352035]),\n",
       " 'rank_test_avr': array([ 7, 13, 10,  3,  1,  8, 14, 11,  4,  2,  9, 15, 12,  5,  6],\n",
       "       dtype=int32),\n",
       " 'split0_test_ll': array([-0.13046556, -0.1297545 , -0.12854681, -0.11336035, -0.09701807,\n",
       "        -0.13016404, -0.12945114, -0.12824933, -0.11308254, -0.096578  ,\n",
       "        -0.13013383, -0.12942075, -0.12821952, -0.11305492, -0.09679112]),\n",
       " 'split1_test_ll': array([-0.13826743, -0.13828368, -0.13518871, -0.11126489, -0.09246025,\n",
       "        -0.13797109, -0.13799281, -0.13490005, -0.11096875, -0.09277035,\n",
       "        -0.1379414 , -0.13796367, -0.13487114, -0.11093919, -0.0929419 ]),\n",
       " 'split2_test_ll': array([-0.12304175, -0.1191919 , -0.1174987 , -0.10093423, -0.08396084,\n",
       "        -0.12273317, -0.11887981, -0.11719867, -0.1006449 , -0.08215594,\n",
       "        -0.12270226, -0.11884855, -0.11716866, -0.10061609, -0.08163531]),\n",
       " 'split3_test_ll': array([-0.12548732, -0.12495933, -0.121665  , -0.10284091, -0.08159364,\n",
       "        -0.12518254, -0.12466241, -0.12137107, -0.10251926, -0.08146105,\n",
       "        -0.125152  , -0.12463266, -0.12134162, -0.10248706, -0.08164855]),\n",
       " 'split4_test_ll': array([-0.12121568, -0.12129226, -0.11976514, -0.10221435, -0.0853448 ,\n",
       "        -0.12089538, -0.12098006, -0.11945863, -0.10189243, -0.08549411,\n",
       "        -0.12086328, -0.12094877, -0.11942792, -0.10186018, -0.08556213]),\n",
       " 'mean_test_ll': array([-0.12769569, -0.12669648, -0.12453302, -0.10612307, -0.08807566,\n",
       "        -0.12738938, -0.1263934 , -0.1242357 , -0.10582171, -0.08769203,\n",
       "        -0.12735869, -0.12636303, -0.12420592, -0.10579162, -0.08771595]),\n",
       " 'std_test_ll': array([0.00613128, 0.0068141 , 0.00648223, 0.00513406, 0.00575498,\n",
       "        0.00613834, 0.00682134, 0.0064867 , 0.00514505, 0.00598424,\n",
       "        0.00613905, 0.00682206, 0.00648714, 0.0051462 , 0.00613347]),\n",
       " 'rank_test_ll': array([15, 12,  9,  6,  3, 14, 11,  8,  5,  1, 13, 10,  7,  4,  2],\n",
       "       dtype=int32)}"
      ]
     },
     "execution_count": 40,
     "metadata": {},
     "output_type": "execute_result"
    }
   ],
   "source": [
    "lr_grid.cv_results_"
   ]
  },
  {
   "cell_type": "code",
   "execution_count": 41,
   "metadata": {},
   "outputs": [
    {
     "data": {
      "text/plain": [
       "(0.8783642378974911, {'logistic__C': 0.1, 'select_best__k': 'all'})"
      ]
     },
     "execution_count": 41,
     "metadata": {},
     "output_type": "execute_result"
    }
   ],
   "source": [
    "lr_grid.best_score_, lr_grid.best_params_"
   ]
  },
  {
   "cell_type": "code",
   "execution_count": 23,
   "metadata": {},
   "outputs": [],
   "source": [
    "ann_pipeline = Pipeline([('preprocessing', col_transformer),\n",
    "                        ('ANN', MLPClassifier(random_state=seed))])"
   ]
  },
  {
   "cell_type": "code",
   "execution_count": 24,
   "metadata": {},
   "outputs": [],
   "source": [
    "params = [{'ANN__solver': ['lbfgs'],\n",
    "           'ANN__max_iter': [50, 100, 150]},\n",
    "          {'ANN__solver': ['sgd'],\n",
    "           'ANN__max_iter': [50, 100, 150],\n",
    "           'ANN__learning_rate_init': [0.001,0.01,1]},\n",
    "          {'ANN__solver': ['adam'],\n",
    "           'ANN__max_iter': [50, 100, 150],\n",
    "           'ANN__learning_rate_init': [0.001,0.01,1]}]\n",
    "\n",
    "ann_grid = GridSearchCV(ann_pipeline,\n",
    "                       param_grid=params,\n",
    "                       scoring={'avr': make_scorer(average_precision_score, needs_proba=True),\n",
    "                                'll': make_scorer(log_loss, greater_is_better=False, needs_proba=True)},\n",
    "                       n_jobs=-1,\n",
    "                       cv=5,\n",
    "                       refit='avr')"
   ]
  },
  {
   "cell_type": "code",
   "execution_count": 25,
   "metadata": {},
   "outputs": [
    {
     "data": {
      "text/plain": [
       "['ann_model.sav']"
      ]
     },
     "execution_count": 25,
     "metadata": {},
     "output_type": "execute_result"
    }
   ],
   "source": [
    "ann_grid.fit(X_train, y_train)\n",
    "ann_file = 'ann_model.sav'  # file name to store svc model\n",
    "joblib.dump(ann_grid, ann_file)  # stores the model"
   ]
  },
  {
   "cell_type": "code",
   "execution_count": 26,
   "metadata": {},
   "outputs": [
    {
     "data": {
      "text/plain": [
       "{'mean_fit_time': array([ 19.720542  ,  19.07684383,  14.61861291,  33.18615251,\n",
       "         33.01116056,  30.80669761,  19.81193061,  18.89290032,\n",
       "         17.91662765,  26.75319319,  26.33137827,  26.5223031 ,\n",
       "         19.44666018,  19.39439373,  19.19012008,  41.75160465,\n",
       "         41.0560842 ,  38.56762748, 122.69924774, 136.8793241 ,\n",
       "        117.19533548]),\n",
       " 'std_fit_time': array([ 2.78403859,  1.88836668,  4.27993557,  0.46788641,  0.37588296,\n",
       "         1.42958549,  0.55539358,  0.81638594,  0.51549438,  5.33204203,\n",
       "         5.47928269,  5.60014881,  3.42151948,  3.54441117,  3.55613037,\n",
       "        16.6696927 , 16.83905942, 16.76766107,  2.02026528, 10.55889227,\n",
       "        15.41801104]),\n",
       " 'mean_score_time': array([0.45295105, 0.51981945, 0.37791433, 0.34578977, 0.32415295,\n",
       "        0.27651911, 0.20683637, 0.23266368, 0.20385637, 0.22297506,\n",
       "        0.20070739, 0.20438242, 0.21991653, 0.21575127, 0.21155219,\n",
       "        0.92124982, 0.90720644, 0.97593336, 1.24585414, 0.70987306,\n",
       "        0.55173979]),\n",
       " 'std_score_time': array([0.09498519, 0.06812556, 0.14968825, 0.06096092, 0.05916207,\n",
       "        0.0759301 , 0.00599616, 0.01897186, 0.0301739 , 0.0345876 ,\n",
       "        0.01545083, 0.02279525, 0.05029845, 0.02264974, 0.01595237,\n",
       "        0.80637448, 0.83860558, 0.87362928, 0.23296223, 0.4368765 ,\n",
       "        0.32803679]),\n",
       " 'param_ANN__max_iter': masked_array(data=[50, 100, 150, 50, 100, 150, 50, 100, 150, 50, 100, 150,\n",
       "                    50, 100, 150, 50, 100, 150, 50, 100, 150],\n",
       "              mask=[False, False, False, False, False, False, False, False,\n",
       "                    False, False, False, False, False, False, False, False,\n",
       "                    False, False, False, False, False],\n",
       "        fill_value='?',\n",
       "             dtype=object),\n",
       " 'param_ANN__solver': masked_array(data=['lbfgs', 'lbfgs', 'lbfgs', 'sgd', 'sgd', 'sgd', 'sgd',\n",
       "                    'sgd', 'sgd', 'sgd', 'sgd', 'sgd', 'adam', 'adam',\n",
       "                    'adam', 'adam', 'adam', 'adam', 'adam', 'adam', 'adam'],\n",
       "              mask=[False, False, False, False, False, False, False, False,\n",
       "                    False, False, False, False, False, False, False, False,\n",
       "                    False, False, False, False, False],\n",
       "        fill_value='?',\n",
       "             dtype=object),\n",
       " 'param_ANN__learning_rate_init': masked_array(data=[--, --, --, 0.001, 0.001, 0.001, 0.01, 0.01, 0.01, 1,\n",
       "                    1, 1, 0.001, 0.001, 0.001, 0.01, 0.01, 0.01, 1, 1, 1],\n",
       "              mask=[ True,  True,  True, False, False, False, False, False,\n",
       "                    False, False, False, False, False, False, False, False,\n",
       "                    False, False, False, False, False],\n",
       "        fill_value='?',\n",
       "             dtype=object),\n",
       " 'params': [{'ANN__max_iter': 50, 'ANN__solver': 'lbfgs'},\n",
       "  {'ANN__max_iter': 100, 'ANN__solver': 'lbfgs'},\n",
       "  {'ANN__max_iter': 150, 'ANN__solver': 'lbfgs'},\n",
       "  {'ANN__learning_rate_init': 0.001,\n",
       "   'ANN__max_iter': 50,\n",
       "   'ANN__solver': 'sgd'},\n",
       "  {'ANN__learning_rate_init': 0.001,\n",
       "   'ANN__max_iter': 100,\n",
       "   'ANN__solver': 'sgd'},\n",
       "  {'ANN__learning_rate_init': 0.001,\n",
       "   'ANN__max_iter': 150,\n",
       "   'ANN__solver': 'sgd'},\n",
       "  {'ANN__learning_rate_init': 0.01, 'ANN__max_iter': 50, 'ANN__solver': 'sgd'},\n",
       "  {'ANN__learning_rate_init': 0.01,\n",
       "   'ANN__max_iter': 100,\n",
       "   'ANN__solver': 'sgd'},\n",
       "  {'ANN__learning_rate_init': 0.01,\n",
       "   'ANN__max_iter': 150,\n",
       "   'ANN__solver': 'sgd'},\n",
       "  {'ANN__learning_rate_init': 1, 'ANN__max_iter': 50, 'ANN__solver': 'sgd'},\n",
       "  {'ANN__learning_rate_init': 1, 'ANN__max_iter': 100, 'ANN__solver': 'sgd'},\n",
       "  {'ANN__learning_rate_init': 1, 'ANN__max_iter': 150, 'ANN__solver': 'sgd'},\n",
       "  {'ANN__learning_rate_init': 0.001,\n",
       "   'ANN__max_iter': 50,\n",
       "   'ANN__solver': 'adam'},\n",
       "  {'ANN__learning_rate_init': 0.001,\n",
       "   'ANN__max_iter': 100,\n",
       "   'ANN__solver': 'adam'},\n",
       "  {'ANN__learning_rate_init': 0.001,\n",
       "   'ANN__max_iter': 150,\n",
       "   'ANN__solver': 'adam'},\n",
       "  {'ANN__learning_rate_init': 0.01,\n",
       "   'ANN__max_iter': 50,\n",
       "   'ANN__solver': 'adam'},\n",
       "  {'ANN__learning_rate_init': 0.01,\n",
       "   'ANN__max_iter': 100,\n",
       "   'ANN__solver': 'adam'},\n",
       "  {'ANN__learning_rate_init': 0.01,\n",
       "   'ANN__max_iter': 150,\n",
       "   'ANN__solver': 'adam'},\n",
       "  {'ANN__learning_rate_init': 1, 'ANN__max_iter': 50, 'ANN__solver': 'adam'},\n",
       "  {'ANN__learning_rate_init': 1, 'ANN__max_iter': 100, 'ANN__solver': 'adam'},\n",
       "  {'ANN__learning_rate_init': 1, 'ANN__max_iter': 150, 'ANN__solver': 'adam'}],\n",
       " 'split0_test_avr': array([0.88310548, 0.88310548, 0.88310548, 0.84115288, 0.84115288,\n",
       "        0.84115288, 0.89709486, 0.89709486, 0.89709486, 0.87052182,\n",
       "        0.87052182, 0.87052182, 0.884729  , 0.884729  , 0.884729  ,\n",
       "        0.86415372, 0.86415372, 0.86415372, 0.00176878, 0.00176878,\n",
       "        0.00176878]),\n",
       " 'split1_test_avr': array([0.9217719 , 0.9217719 , 0.9217719 , 0.90734305, 0.90734305,\n",
       "        0.90734305, 0.92337534, 0.92337534, 0.92337534, 0.90364611,\n",
       "        0.90364611, 0.90364611, 0.92182707, 0.92182707, 0.92182707,\n",
       "        0.91156223, 0.91156223, 0.91156223, 0.17537421, 0.00176878,\n",
       "        0.00176878]),\n",
       " 'split2_test_avr': array([0.85679171, 0.85679171, 0.85679171, 0.83075984, 0.83075984,\n",
       "        0.83075984, 0.8550326 , 0.8550326 , 0.8550326 , 0.85694999,\n",
       "        0.85694999, 0.85694999, 0.85976989, 0.85976989, 0.85976989,\n",
       "        0.85428905, 0.85428905, 0.85428905, 0.73575556, 0.00174323,\n",
       "        0.00174323]),\n",
       " 'split3_test_avr': array([0.85171269, 0.85171269, 0.85171269, 0.77779014, 0.77779014,\n",
       "        0.77779014, 0.85010453, 0.85010453, 0.85010453, 0.82257219,\n",
       "        0.82257219, 0.82257219, 0.84398189, 0.84398189, 0.84398189,\n",
       "        0.83747795, 0.83747795, 0.83747795, 0.00174323, 0.00174323,\n",
       "        0.00174323]),\n",
       " 'split4_test_avr': array([0.85698254, 0.85698254, 0.85698254, 0.8019167 , 0.8019167 ,\n",
       "        0.8019167 , 0.85418576, 0.85418576, 0.85418576, 0.85451837,\n",
       "        0.85451837, 0.85451837, 0.86861403, 0.86861403, 0.86861403,\n",
       "        0.84947167, 0.84947167, 0.84947167, 0.00174323, 0.00174323,\n",
       "        0.00174323]),\n",
       " 'mean_test_avr': array([0.87407344, 0.87407344, 0.87407344, 0.83179339, 0.83179339,\n",
       "        0.83179339, 0.87595932, 0.87595932, 0.87595932, 0.86164222,\n",
       "        0.86164222, 0.86164222, 0.87578494, 0.87578494, 0.87578494,\n",
       "        0.86339143, 0.86339143, 0.86339143, 0.18327506, 0.00175345,\n",
       "        0.00175345]),\n",
       " 'std_test_avr': array([2.62584503e-02, 2.62584503e-02, 2.62584503e-02, 4.38303245e-02,\n",
       "        4.38303245e-02, 4.38303245e-02, 2.92421835e-02, 2.92421835e-02,\n",
       "        2.92421835e-02, 2.62390246e-02, 2.62390246e-02, 2.62390246e-02,\n",
       "        2.65301794e-02, 2.65301794e-02, 2.65301794e-02, 2.55702204e-02,\n",
       "        2.55702204e-02, 2.55702204e-02, 2.84303595e-01, 1.25145460e-05,\n",
       "        1.25145460e-05]),\n",
       " 'rank_test_avr': array([ 7,  7,  7, 16, 16, 16,  1,  1,  1, 13, 13, 13,  4,  4,  4, 10, 10,\n",
       "        10, 19, 20, 20], dtype=int32),\n",
       " 'split0_test_ll': array([-0.00193617, -0.00193617, -0.00193617, -0.00326059, -0.00326059,\n",
       "        -0.00326059, -0.00177297, -0.00177297, -0.00177297, -0.00453018,\n",
       "        -0.00453018, -0.00453018, -0.00297773, -0.00297773, -0.00297773,\n",
       "        -0.00538083, -0.00538083, -0.00538083, -0.01420292, -0.01305561,\n",
       "        -0.01305561]),\n",
       " 'split1_test_ll': array([-0.00151006, -0.00151006, -0.00151006, -0.00232775, -0.00232775,\n",
       "        -0.00232775, -0.00148133, -0.00148133, -0.00148133, -0.00264075,\n",
       "        -0.00264075, -0.00264075, -0.00156231, -0.00156231, -0.00156231,\n",
       "        -0.0033676 , -0.0033676 , -0.0033676 , -0.0135018 , -0.01304191,\n",
       "        -0.01304191]),\n",
       " 'split2_test_ll': array([-0.0024566 , -0.0024566 , -0.0024566 , -0.00366297, -0.00366297,\n",
       "        -0.00366297, -0.00253742, -0.00253742, -0.00253742, -0.00406777,\n",
       "        -0.00406777, -0.00406777, -0.00259379, -0.00259379, -0.00259379,\n",
       "        -0.00635673, -0.00635673, -0.00635673, -0.00414052, -0.01443235,\n",
       "        -0.01443235]),\n",
       " 'split3_test_ll': array([-0.00253957, -0.00253957, -0.00253957, -0.00353673, -0.00353673,\n",
       "        -0.00353673, -0.00252802, -0.00252802, -0.00252802, -0.00621992,\n",
       "        -0.00621992, -0.00621992, -0.00343484, -0.00343484, -0.00343484,\n",
       "        -0.00689673, -0.00689673, -0.00689673, -0.01420348, -0.01383091,\n",
       "        -0.01383091]),\n",
       " 'split4_test_ll': array([-0.00303999, -0.00303999, -0.00303999, -0.00395707, -0.00395707,\n",
       "        -0.00395707, -0.00301488, -0.00301488, -0.00301488, -0.00471207,\n",
       "        -0.00471207, -0.00471207, -0.00314369, -0.00314369, -0.00314369,\n",
       "        -0.00687878, -0.00687878, -0.00687878, -0.01420347, -0.0128742 ,\n",
       "        -0.0128742 ]),\n",
       " 'mean_test_ll': array([-0.00229647, -0.00229647, -0.00229647, -0.00334901, -0.00334901,\n",
       "        -0.00334901, -0.00226691, -0.00226691, -0.00226691, -0.00443412,\n",
       "        -0.00443412, -0.00443412, -0.00274246, -0.00274246, -0.00274246,\n",
       "        -0.00577611, -0.00577611, -0.00577611, -0.01205047, -0.01344699,\n",
       "        -0.01344699]),\n",
       " 'std_test_ll': array([0.00052647, 0.00052647, 0.00052647, 0.00055756, 0.00055756,\n",
       "        0.00055756, 0.00055892, 0.00055892, 0.00055892, 0.00115117,\n",
       "        0.00115117, 0.00115117, 0.00064971, 0.00064971, 0.00064971,\n",
       "        0.00132409, 0.00132409, 0.00132409, 0.00396425, 0.00059391,\n",
       "        0.00059391]),\n",
       " 'rank_test_ll': array([ 4,  4,  4, 10, 10, 10,  1,  1,  1, 13, 13, 13,  7,  7,  7, 16, 16,\n",
       "        16, 19, 20, 20], dtype=int32)}"
      ]
     },
     "execution_count": 26,
     "metadata": {},
     "output_type": "execute_result"
    }
   ],
   "source": [
    "ann_grid.cv_results_"
   ]
  },
  {
   "cell_type": "code",
   "execution_count": 27,
   "metadata": {},
   "outputs": [
    {
     "data": {
      "text/plain": [
       "(0.875959321115172,\n",
       " {'ANN__learning_rate_init': 0.01, 'ANN__max_iter': 50, 'ANN__solver': 'sgd'})"
      ]
     },
     "execution_count": 27,
     "metadata": {},
     "output_type": "execute_result"
    }
   ],
   "source": [
    "ann_grid.best_score_, ann_grid.best_params_"
   ]
  },
  {
   "cell_type": "code",
   "execution_count": 23,
   "metadata": {},
   "outputs": [],
   "source": [
    "#lr_grid = joblib.load('lr_model.sav')"
   ]
  },
  {
   "cell_type": "code",
   "execution_count": 25,
   "metadata": {},
   "outputs": [
    {
     "name": "stdout",
     "output_type": "stream",
     "text": [
      "              precision    recall  f1-score   support\n",
      "\n",
      "     class 0       1.00      0.95      0.97     71079\n",
      "     class 1       0.03      0.95      0.06       123\n",
      "\n",
      "    accuracy                           0.95     71202\n",
      "   macro avg       0.51      0.95      0.51     71202\n",
      "weighted avg       1.00      0.95      0.97     71202\n",
      "\n",
      "f1 score: 0.9704962602531955\n"
     ]
    }
   ],
   "source": [
    "# get f1 matrix after predicting the test set\n",
    "y_pred = lr_grid.predict(X_test)\n",
    "from sklearn.metrics import classification_report\n",
    "target_names = ['class 0', 'class 1']\n",
    "print(classification_report(y_test, y_pred, target_names=target_names))\n",
    "print('f1 score:', f1_score(y_test, y_pred,average='weighted'))"
   ]
  },
  {
   "cell_type": "code",
   "execution_count": 38,
   "metadata": {},
   "outputs": [
    {
     "data": {
      "image/png": "[encoded data removed]",
      "text/plain": [
       "<Figure size 432x288 with 1 Axes>"
      ]
     },
     "metadata": {
      "needs_background": "light"
     },
     "output_type": "display_data"
    }
   ],
   "source": [
    "# plot precision recall curve\n",
    "# predict probabilities\n",
    "yhat = lr_grid.predict_proba(X_test)\n",
    "# retrieve just the probabilities for the positive class\n",
    "pos_probs = yhat[:, 1]\n",
    "# calculate model precision-recall curve\n",
    "precision, recall, _ = precision_recall_curve(y_test, pos_probs)\n",
    "# plot the model precision-recall curve\n",
    "plt.plot(recall, precision, marker='.', label='LR')\n",
    "# axis labels\n",
    "plt.xlabel('Recall')\n",
    "plt.ylabel('Precision')\n",
    "# show the legend\n",
    "plt.legend()\n",
    "# show the plot\n",
    "plt.show()\n"
   ]
  },
  {
   "cell_type": "code",
   "execution_count": 27,
   "metadata": {},
   "outputs": [
    {
     "name": "stdout",
     "output_type": "stream",
     "text": [
      "Average precision-recall score: 0.66\n"
     ]
    }
   ],
   "source": [
    "\n",
    "\n",
    "average_precision = average_precision_score(y_test, pos_probs)\n",
    "\n",
    "print('Average precision-recall score: {0:0.2f}'.format(\n",
    "      average_precision))\n"
   ]
  },
  {
   "cell_type": "code",
   "execution_count": 28,
   "metadata": {},
   "outputs": [
    {
     "data": {
      "text/plain": [
       "array([[67223,  3856],\n",
       "       [    6,   117]])"
      ]
     },
     "execution_count": 28,
     "metadata": {},
     "output_type": "execute_result"
    }
   ],
   "source": [
    "from sklearn.metrics import confusion_matrix\n",
    "confusion_matrix(y_test, y_pred)"
   ]
  },
  {
   "cell_type": "markdown",
   "metadata": {},
   "source": [
    "Train the best model on the whole dataset"
   ]
  },
  {
   "cell_type": "code",
   "execution_count": 29,
   "metadata": {},
   "outputs": [],
   "source": [
    "temp_df1= df1[df1.Class == 1]   # fraud class\n",
    "temp_df0= df1[df1.Class == 0]   # non fraud class"
   ]
  },
  {
   "cell_type": "code",
   "execution_count": 30,
   "metadata": {},
   "outputs": [
    {
     "data": {
      "text/plain": [
       "(492, 31)"
      ]
     },
     "execution_count": 30,
     "metadata": {},
     "output_type": "execute_result"
    }
   ],
   "source": [
    "temp_df1.shape"
   ]
  },
  {
   "cell_type": "code",
   "execution_count": 31,
   "metadata": {},
   "outputs": [
    {
     "data": {
      "text/plain": [
       "(459, 31)"
      ]
     },
     "execution_count": 31,
     "metadata": {},
     "output_type": "execute_result"
    }
   ],
   "source": [
    "# We will consider outlier is zscore is > 3 or < -3 and remove all of them\n",
    "zscore_V14 = stats.zscore(temp_df1.V14) # calculate zscore \n",
    "temp_df1 = temp_df1[(abs(zscore_V14) < 3)] # drop rows with zscore > 3 or < -3\n",
    "\n",
    "zscore_V12 = stats.zscore(temp_df1.V12) # calculate zscore \n",
    "temp_df1 = temp_df1[(abs(zscore_V12) < 3)] # drop rows with zscore > 3 or < -3\n",
    "\n",
    "zscore_V10 = stats.zscore(temp_df1.V10) # calculate zscore \n",
    "temp_df1 = temp_df1[(abs(zscore_V10) < 3)] # drop rows with zscore > 3 or < -3\n",
    "\n",
    "zscore_V2 = stats.zscore(temp_df1.V2) # calculate zscore \n",
    "temp_df1 = temp_df1[(abs(zscore_V2) < 3)] # drop rows with zscore > 3 or < -3\n",
    "\n",
    "zscore_V21 = stats.zscore(temp_df1.V21) # calculate zscore \n",
    "temp_df1 = temp_df1[(abs(zscore_V21) < 3)] # drop rows with zscore > 3 or < -3\n",
    "\n",
    "zscore_Amount = stats.zscore(temp_df1.Amount) # calculate zscore \n",
    "temp_df1 = temp_df1[(abs(zscore_Amount) < 3)] # drop rows with zscore > 3 or < -3\n",
    "\n",
    "temp_df1.shape"
   ]
  },
  {
   "cell_type": "code",
   "execution_count": 32,
   "metadata": {},
   "outputs": [
    {
     "data": {
      "text/plain": [
       "(284315, 31)"
      ]
     },
     "execution_count": 32,
     "metadata": {},
     "output_type": "execute_result"
    }
   ],
   "source": [
    "temp_df0.shape"
   ]
  },
  {
   "cell_type": "code",
   "execution_count": 33,
   "metadata": {},
   "outputs": [
    {
     "data": {
      "text/plain": [
       "(259600, 31)"
      ]
     },
     "execution_count": 33,
     "metadata": {},
     "output_type": "execute_result"
    }
   ],
   "source": [
    "# We will consider outlier is zscore is > 3 or < -3 and remove all of them\n",
    "zscore_V14 = stats.zscore(temp_df0.V14) # calculate zscore \n",
    "temp_df0 = temp_df0[(abs(zscore_V14) < 3)] # drop rows with zscore > 3 or < -3\n",
    "\n",
    "zscore_V12 = stats.zscore(temp_df0.V12) # calculate zscore \n",
    "temp_df0 = temp_df0[(abs(zscore_V12) < 3)] # drop rows with zscore > 3 or < -3\n",
    "\n",
    "zscore_V10 = stats.zscore(temp_df0.V10) # calculate zscore \n",
    "temp_df0 = temp_df0[(abs(zscore_V10) < 3)] # drop rows with zscore > 3 or < -3\n",
    "\n",
    "zscore_V2 = stats.zscore(temp_df0.V2) # calculate zscore \n",
    "temp_df0 = temp_df0[(abs(zscore_V2) < 3)] # drop rows with zscore > 3 or < -3\n",
    "\n",
    "zscore_V21 = stats.zscore(temp_df0.V21) # calculate zscore \n",
    "temp_df0 = temp_df0[(abs(zscore_V21) < 3)] # drop rows with zscore > 3 or < -3\n",
    "\n",
    "zscore_Amount = stats.zscore(temp_df0.Amount) # calculate zscore \n",
    "temp_df0 = temp_df0[(abs(zscore_Amount) < 3)] # drop rows with zscore > 3 or < -3\n",
    "\n",
    "temp_df0.shape"
   ]
  },
  {
   "cell_type": "code",
   "execution_count": 34,
   "metadata": {},
   "outputs": [
    {
     "data": {
      "text/plain": [
       "(260059, 31)"
      ]
     },
     "execution_count": 34,
     "metadata": {},
     "output_type": "execute_result"
    }
   ],
   "source": [
    "temp_df = pd.concat([temp_df1, temp_df0], axis=0, sort=False)  # concatenate both Classes\n",
    "temp_df.shape"
   ]
  },
  {
   "cell_type": "code",
   "execution_count": 35,
   "metadata": {},
   "outputs": [],
   "source": [
    "# get X_train and y_train data after removing outlier\n",
    "X = temp_df.drop('Class', axis=1)  # get only independent variables\n",
    "#y_train = temp_df.loc[:,['Class']]  # get Class variable\n",
    "y = temp_df['Class']\n",
    "#y_train.astype('category'"
   ]
  },
  {
   "cell_type": "code",
   "execution_count": 36,
   "metadata": {},
   "outputs": [],
   "source": [
    "best_model = Pipeline([('preprocessing', col_transformer),\n",
    "                        ('select_best', SelectKBest(k='all')),\n",
    "                        ('logistic', LogisticRegression(class_weight='balanced', random_state=seed, C = 0.1))])"
   ]
  },
  {
   "cell_type": "code",
   "execution_count": 37,
   "metadata": {},
   "outputs": [
    {
     "name": "stderr",
     "output_type": "stream",
     "text": [
      "/Users/saurabhbiswas/opt/anaconda3/lib/python3.7/site-packages/sklearn/linear_model/logistic.py:432: FutureWarning: Default solver will be changed to 'lbfgs' in 0.22. Specify a solver to silence this warning.\n",
      "  FutureWarning)\n"
     ]
    },
    {
     "data": {
      "text/plain": [
       "['best_model.sav']"
      ]
     },
     "execution_count": 37,
     "metadata": {},
     "output_type": "execute_result"
    }
   ],
   "source": [
    "best_model.fit(X, y)\n",
    "best_file = 'best_model.sav'  # file name to store svc model\n",
    "joblib.dump(best_model, best_file)  # stores the model"
   ]
  },
  {
   "cell_type": "code",
   "execution_count": null,
   "metadata": {},
   "outputs": [],
   "source": []
  }
 ],
 "metadata": {
  "kernelspec": {
   "display_name": "Python 3",
   "language": "python",
   "name": "python3"
  },
  "language_info": {
   "codemirror_mode": {
    "name": "ipython",
    "version": 3
   },
   "file_extension": ".py",
   "mimetype": "text/x-python",
   "name": "python",
   "nbconvert_exporter": "python",
   "pygments_lexer": "ipython3",
   "version": "3.7.4"
  }
 },
 "nbformat": 4,
 "nbformat_minor": 2
}
